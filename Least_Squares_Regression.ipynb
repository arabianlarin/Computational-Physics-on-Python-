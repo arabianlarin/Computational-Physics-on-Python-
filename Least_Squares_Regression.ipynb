{
  "nbformat": 4,
  "nbformat_minor": 0,
  "metadata": {
    "colab": {
      "name": "Least-Squares Regression.ipynb",
      "provenance": []
    },
    "kernelspec": {
      "name": "python3",
      "display_name": "Python 3"
    }
  },
  "cells": [
    {
      "cell_type": "markdown",
      "metadata": {
        "id": "CzJzJ39TJr8C"
      },
      "source": [
        "### PHYS 270 Assignment 6: Least-Squares Regression\n",
        "\n",
        "Student Name: Rakhat Zhussupkhanov"
      ]
    },
    {
      "cell_type": "markdown",
      "metadata": {
        "id": "vL2K5nSvggos"
      },
      "source": [
        "#**ABSTRACT**\n",
        "\n",
        "In this assignment, model that could derive velocity formulae to fit experimental data was built with help of linear least-square regression. A set noisy velocity values was used as data. To be more exact, linear, exponential and polynomial equations were investigated. The results revealed that the exponential formula is best fit into the data."
      ]
    },
    {
      "cell_type": "markdown",
      "metadata": {
        "id": "uyD6mAe0hmHv"
      },
      "source": [
        "# **INTRODUCTION**\n",
        "\n",
        "Nowadays people (especially data analysts) work with large amounts of data, which is not always perfect since there are often some noises, omitted values, unavailable values, etc. Specialists usually use regression to solve this problem. Namely, they try find such a function, values of which fit the data the best. With regression, data with the least error can be obtained.\n",
        "\n"
      ]
    },
    {
      "cell_type": "markdown",
      "metadata": {
        "id": "A4B-ifkZ-Giw"
      },
      "source": [
        "# **METHODS**\n",
        "\n",
        "This assignments implements least-squares method of regression, which uses least square approximation. If we suppose that our function is $$y = kx + b,$$ using the square of difference between a true value and a predicted one, we find the slope that fits the function best: $$\\frac{\\sum(x - x_{mean})(y - y_{mean})}{\\sum(x - x_{mean})^2} $$ Then, we get  $$b = y - kx $$\n",
        "To estimate the error, the best method is to calculate root-mean square error, whose is formula is the following: $$\\sum \\sqrt{(\\frac{1}{n}(y_{true} - y_{predicted})^2} $$\n",
        "\n",
        "The method will investigate these equations:\n",
        "\n",
        "\n",
        "\n",
        "1.   $f(x) = a_0 + a_1x$ (linear)\n",
        "2.   $f(x) = a_0e^{a_1x}$ (exponential)\n",
        "3.   $f(x) = a_0 + a_1x + a_2x^2 $ (polynomial)\n",
        "\n"
      ]
    },
    {
      "cell_type": "markdown",
      "metadata": {
        "id": "oqCm8MICCCnf"
      },
      "source": [
        "First, we import the necessary libraries:"
      ]
    },
    {
      "cell_type": "code",
      "metadata": {
        "id": "HDBJVgl1Khit"
      },
      "source": [
        "import numpy as np\n",
        "import pandas as pd\n",
        "import matplotlib.pyplot as plt"
      ],
      "execution_count": null,
      "outputs": []
    },
    {
      "cell_type": "markdown",
      "metadata": {
        "id": "mRv21FlWCFrb"
      },
      "source": [
        "Reading the data:"
      ]
    },
    {
      "cell_type": "code",
      "metadata": {
        "id": "0vCKL0ppeFV8"
      },
      "source": [
        "path = 'https://drive.google.com/uc?export=download&id=1RBXwhNt6BMpkiaS3GhsTFcHuSVBvqfnG'\n",
        "data = pd.read_csv(path)"
      ],
      "execution_count": null,
      "outputs": []
    },
    {
      "cell_type": "markdown",
      "metadata": {
        "id": "j5Yo7o8gCIBO"
      },
      "source": [
        "Implement the function for the least-squares method:"
      ]
    },
    {
      "cell_type": "code",
      "metadata": {
        "id": "C3RvFfUPdECb"
      },
      "source": [
        "def least_squares(x, y):\n",
        "  return np.sum((x - np.mean(x)) * (y  - np.mean(x)))/np.sum((x - np.mean(x)) ** 2), np.mean(np.mean(y) - np.sum((x - np.mean(x)) * (y  - np.mean(x)))/np.sum((x - np.mean(x)) ** 2) *np.mean(x))"
      ],
      "execution_count": null,
      "outputs": []
    },
    {
      "cell_type": "markdown",
      "metadata": {
        "id": "RdEA0PDBCLhr"
      },
      "source": [
        "Implementing the RMS function:"
      ]
    },
    {
      "cell_type": "code",
      "metadata": {
        "id": "1QtuN2rr8DyQ"
      },
      "source": [
        "def rms(true, predicted):\n",
        "  return np.sqrt(np.sum(1/true.shape[0] * (true - predicted)**2))"
      ],
      "execution_count": null,
      "outputs": []
    },
    {
      "cell_type": "code",
      "metadata": {
        "colab": {
          "base_uri": "https://localhost:8080/"
        },
        "id": "GZRu_TUUehNE",
        "outputId": "bc2c1518-a42e-478c-a06d-1d446d5aa382"
      },
      "source": [
        "time = data[\"Time\"]\n",
        "voltage = data[\"Voltage\"]\n",
        "k, b = least_squares(time, voltage)\n",
        "k, b"
      ],
      "execution_count": null,
      "outputs": [
        {
          "output_type": "execute_result",
          "data": {
            "text/plain": [
              "(-7.527549384283313, 7.670451687058824)"
            ]
          },
          "metadata": {
            "tags": []
          },
          "execution_count": 69
        }
      ]
    },
    {
      "cell_type": "markdown",
      "metadata": {
        "id": "nvdIhJbUCXkg"
      },
      "source": [
        "Calculating the predicted values:"
      ]
    },
    {
      "cell_type": "code",
      "metadata": {
        "id": "aRK84i9lfGDs"
      },
      "source": [
        "predicted = k * time + b"
      ],
      "execution_count": null,
      "outputs": []
    },
    {
      "cell_type": "code",
      "metadata": {
        "colab": {
          "base_uri": "https://localhost:8080/"
        },
        "id": "b8otPscG8okI",
        "outputId": "6eac4433-c1b6-4c29-ac78-924638dfe138"
      },
      "source": [
        "rms(voltage, predicted)"
      ],
      "execution_count": null,
      "outputs": [
        {
          "output_type": "execute_result",
          "data": {
            "text/plain": [
              "0.6385467391118245"
            ]
          },
          "metadata": {
            "tags": []
          },
          "execution_count": 71
        }
      ]
    },
    {
      "cell_type": "markdown",
      "metadata": {
        "id": "EQPIa13dCTne"
      },
      "source": [
        "The RMS seems to be too big."
      ]
    },
    {
      "cell_type": "code",
      "metadata": {
        "colab": {
          "base_uri": "https://localhost:8080/",
          "height": 628
        },
        "id": "21fBjkU5fI28",
        "outputId": "69bb4cce-219f-4bca-fae1-7c74a6bfbb91"
      },
      "source": [
        "fig, ax = plt.subplots(figsize=(10, 10))\n",
        "\n",
        "ax.set_title(\"Voltage vs time\", fontsize=15)\n",
        "ax.set_xlabel(\"Time, s\",  fontsize=15)\n",
        "ax.set_ylabel(\"Voltage, V\",  fontsize=15)\n",
        "\n",
        "ax.scatter(time, voltage, label=\"True values\", c = \"r\")\n",
        "ax.plot(time, predicted, label=\"Predicted values\", c=\"b\")\n",
        "\n",
        "plt.legend()\n",
        "plt.show()"
      ],
      "execution_count": null,
      "outputs": [
        {
          "output_type": "display_data",
          "data": {
            "image/png": "[encoded data removed]",
            "text/plain": [
              "<Figure size 720x720 with 1 Axes>"
            ]
          },
          "metadata": {
            "tags": [],
            "needs_background": "light"
          }
        }
      ]
    },
    {
      "cell_type": "markdown",
      "metadata": {
        "id": "VtV1HMpyCgNf"
      },
      "source": [
        "The equation of the best fit is $V(t) = -7.528t + 7.67$, which seems not to fit the data well because the original data does not resemble linear function."
      ]
    },
    {
      "cell_type": "markdown",
      "metadata": {
        "id": "Vil8HcHlfWS1"
      },
      "source": [
        "**EXPONENTIAL FIT**"
      ]
    },
    {
      "cell_type": "markdown",
      "metadata": {
        "id": "1MPfVfqQDlG0"
      },
      "source": [
        "Least-squares method cannot deal with nonlinear equations, which is why we apply natural logarithm to both sides of the exponential equation we have: $$V(t) = ke^{at}$$\n",
        "$$\\ln{V(t)} = \\ln{k} + \\ln{e^{at}} $$\n",
        "$$\\ln{V(t)} = \\ln{k} + at$$\n",
        "\n",
        "As $\\ln{k}$ is a constant, the function is linear. Hence, we can use the least-squares method."
      ]
    },
    {
      "cell_type": "code",
      "metadata": {
        "colab": {
          "base_uri": "https://localhost:8080/"
        },
        "id": "1JiXlNCxkRgP",
        "outputId": "2ab5cb1e-1033-4ad2-d47f-ca2a03a550fd"
      },
      "source": [
        "log_v = np.log(data[\"Voltage\"])\n",
        "a, k = least_squares(time, log_v)\n",
        "a, k"
      ],
      "execution_count": null,
      "outputs": [
        {
          "output_type": "execute_result",
          "data": {
            "text/plain": [
              "(-2.0300343269602203, 2.207511025806423)"
            ]
          },
          "metadata": {
            "tags": []
          },
          "execution_count": 73
        }
      ]
    },
    {
      "cell_type": "code",
      "metadata": {
        "id": "-oQVpqBDkVew"
      },
      "source": [
        "predicted = np.exp(k + a * time)"
      ],
      "execution_count": null,
      "outputs": []
    },
    {
      "cell_type": "code",
      "metadata": {
        "colab": {
          "base_uri": "https://localhost:8080/"
        },
        "id": "5pdodd3I8j46",
        "outputId": "21645c60-33ed-45bb-cf3c-e871524c0bf2"
      },
      "source": [
        "rms(voltage, predicted)"
      ],
      "execution_count": null,
      "outputs": [
        {
          "output_type": "execute_result",
          "data": {
            "text/plain": [
              "0.2673926108863833"
            ]
          },
          "metadata": {
            "tags": []
          },
          "execution_count": 75
        }
      ]
    },
    {
      "cell_type": "code",
      "metadata": {
        "colab": {
          "base_uri": "https://localhost:8080/",
          "height": 621
        },
        "id": "J67Rqmf5kZFF",
        "outputId": "192d5a42-25ff-4272-c62d-1d8b6737576a"
      },
      "source": [
        "fig, ax = plt.subplots(figsize=(10, 10))\n",
        "\n",
        "ax.set_title(\"Voltage vs time\")\n",
        "ax.set_xlabel(\"time, s\")\n",
        "ax.set_ylabel(\"Voltage, V\",  fontsize=15)\n",
        "\n",
        "ax.scatter(time, voltage, label=\"True Values\", c=\"r\")\n",
        "ax.plot(time, predicted, label=\"Predicted Values\", c=\"b\")\n",
        "\n",
        "plt.legend()\n",
        "plt.show()"
      ],
      "execution_count": null,
      "outputs": [
        {
          "output_type": "display_data",
          "data": {
            "image/png": "[encoded data removed]",
            "text/plain": [
              "<Figure size 720x720 with 1 Axes>"
            ]
          },
          "metadata": {
            "tags": [],
            "needs_background": "light"
          }
        }
      ]
    },
    {
      "cell_type": "markdown",
      "metadata": {
        "id": "TifriSrnFs7p"
      },
      "source": [
        "The RMS in this part is much better. Therefore, exponential fit is more accurate. It also can be seen from the graph, the curve fits the data better."
      ]
    },
    {
      "cell_type": "markdown",
      "metadata": {
        "id": "yUH_UYWEnrL-"
      },
      "source": [
        "**POLYNOMIAL FIT**"
      ]
    },
    {
      "cell_type": "markdown",
      "metadata": {
        "id": "6YVraHBcGcgK"
      },
      "source": [
        "The coefficients of the function can be calculated using linear algebra and matrices:"
      ]
    },
    {
      "cell_type": "code",
      "metadata": {
        "id": "bQKVpHViz-6f"
      },
      "source": [
        "time = data[\"Time\"]\n",
        "voltage = data[\"Voltage\"]\n",
        "A = np.array([[np.size(time), np.sum(time), np.sum(time**2)],\n",
        "            [np.sum(time), np.sum(time**2), np.sum(time**3)],\n",
        "            [np.sum(time**2), np.sum(time**3), np.sum(time**4)]])\n",
        "b = np.array([np.sum(voltage), np.sum(time*voltage), np.sum(time**2*voltage)])\n",
        "x = np.linalg.solve(A, b)"
      ],
      "execution_count": null,
      "outputs": []
    },
    {
      "cell_type": "code",
      "metadata": {
        "colab": {
          "base_uri": "https://localhost:8080/"
        },
        "id": "csiELNXl0b3F",
        "outputId": "70db7f8d-0ec4-4c14-b502-6814041ddf23"
      },
      "source": [
        "x"
      ],
      "execution_count": null,
      "outputs": [
        {
          "output_type": "execute_result",
          "data": {
            "text/plain": [
              "array([  8.85774677, -14.94814368,   7.572035  ])"
            ]
          },
          "metadata": {
            "tags": []
          },
          "execution_count": 78
        }
      ]
    },
    {
      "cell_type": "code",
      "metadata": {
        "id": "DFMPk2z_8bYA"
      },
      "source": [
        "predicted = x[0] + x[1] * time + x[2] * time**2"
      ],
      "execution_count": null,
      "outputs": []
    },
    {
      "cell_type": "code",
      "metadata": {
        "colab": {
          "base_uri": "https://localhost:8080/"
        },
        "id": "jJ-UVfh_8dIw",
        "outputId": "84cc95d2-dce6-4e53-dd03-5673989aa755"
      },
      "source": [
        "rms(voltage, predicted)"
      ],
      "execution_count": null,
      "outputs": [
        {
          "output_type": "execute_result",
          "data": {
            "text/plain": [
              "0.29974498029446817"
            ]
          },
          "metadata": {
            "tags": []
          },
          "execution_count": 80
        }
      ]
    },
    {
      "cell_type": "code",
      "metadata": {
        "colab": {
          "base_uri": "https://localhost:8080/",
          "height": 621
        },
        "id": "Ajhk2X7Q0y-S",
        "outputId": "d9b4f513-5ce0-4abd-b9b0-02d849a2f033"
      },
      "source": [
        "fig, ax = plt.subplots(figsize=(10, 10))\n",
        "\n",
        "ax.set_title(\"Voltage vs time\")\n",
        "ax.set_xlabel(\"Time, s\")\n",
        "ax.set_ylabel(\"Voltage, V\")\n",
        "\n",
        "ax.scatter(time, voltage, label=\"True Values\", c=\"r\")\n",
        "ax.plot(time, predicted, label=\"Predicted Values\", c=\"b\")\n",
        "\n",
        "plt.legend()\n",
        "plt.show()"
      ],
      "execution_count": null,
      "outputs": [
        {
          "output_type": "display_data",
          "data": {
            "image/png": "[encoded data removed]",
            "text/plain": [
              "<Figure size 720x720 with 1 Axes>"
            ]
          },
          "metadata": {
            "tags": [],
            "needs_background": "light"
          }
        }
      ]
    },
    {
      "cell_type": "markdown",
      "metadata": {
        "id": "V2mj1XQEGmse"
      },
      "source": [
        "The polynomial function is $8.86 - 14.95t +  7.57t^2$. Although the polynomial form fits the data well, too, its RMS is greater than that of the exponential fit."
      ]
    },
    {
      "cell_type": "markdown",
      "metadata": {
        "id": "JBMDtU9BHVIX"
      },
      "source": [
        "# **RESULTS AND CONCLUSION**\n",
        "\n",
        "Let us compare the RMSE of each part:\n",
        "\n",
        "Linear fit - $0.6385467391118245$\n",
        "\n",
        "Exponential fit - $0.2673926108863833$\n",
        "\n",
        "Polynomial fit - $0.29974498029446817$\n",
        "\n",
        "Looking at these results and the graphs, we can conclude that the exponential equation fits the data best, which is why it could be better to use such equations. However, the RMSE is still relatively high. It could happen due to the student using an old voltmeter or a capacitor being in use."
      ]
    }
  ]
}