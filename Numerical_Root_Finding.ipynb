{
  "nbformat": 4,
  "nbformat_minor": 0,
  "metadata": {
    "colab": {
      "name": "Numerical Root Finding.ipynb",
      "provenance": []
    },
    "kernelspec": {
      "name": "python3",
      "display_name": "Python 3"
    }
  },
  "cells": [
    {
      "cell_type": "markdown",
      "metadata": {
        "id": "jtsyHMexy_WK"
      },
      "source": [
        "#**PHYS 270 Assignment 3: Numerical Root Finding**\n",
        "\n",
        "Student Name: Rakhat Zhussupkhanov"
      ]
    },
    {
      "cell_type": "markdown",
      "metadata": {
        "id": "L13ccZorzAWS"
      },
      "source": [
        "#**Abstract**\n",
        "\n",
        "In this assignment, various methods of root finding, including graphical, bracketing, and open were implemented in order to find the fastest and the most precise one."
      ]
    },
    {
      "cell_type": "markdown",
      "metadata": {
        "id": "qxW3_SVGzBXM"
      },
      "source": [
        "#**Introduction**\n",
        "\n",
        "Numerical root finding algorithms are algorithms for finding roots (in other words, \"zeroes\") of functions. One may say that those can be found analytically, but there are many times when an equaion cannot be solved manually or at least cannot be solved as quick as we want. In such situations, we use computational root finding algorithms. There are generally two methods excluding a graphical one: bracketing and open. In this lab work, we implement these methods and find out which one is the most effective to use."
      ]
    },
    {
      "cell_type": "markdown",
      "metadata": {
        "id": "2KvIU6pgzCQj"
      },
      "source": [
        "#**Methods**\n",
        "\n",
        "The first task was to solve the problem graphically. For that, of course, we needed `matplotlib`. To show the mass corresponding to our velocity value (35 m/s), I plotted a horizontal line v = 0 and a graph of velocity as a function of mass and pointed their intersection with the help of `LineString` function of `shapely.geometry` function.\n",
        "\n",
        "In the next tasks, we needed to find the mass using three methods: **False Position**, **Newton-Raphson**, and **Secant**.\n",
        "\n",
        "In short, **False Position** method is the following: $$ x_{r} = x_{2} - \\frac{f(x_{2})(x_{2} - x_{1})}{f(x_{2})-f(x_{1})}$$\n",
        "To implement a code for this method, we needed to execute this formula in a loop a certain number of times that we assign initially.\n",
        "\n",
        "In terms of **Newton-Raphson** method, it looks like this: $$ x_{i + 1} = x_{i} - \\frac{f(x_{i})}{f'(x_{i})}$$\n",
        "As can be seen from the formula, we need to compute a derivative. Here, we used `derivative` function of `scipy` library. We could use `sympy` as well, however, it is more like a matter of taste. Moreover, with `scipy`, there is no need to implement a separate function for a derivative, you can evaluate that using the original equation unlike `sympy`.\n",
        "\n",
        "**Secant** method states that $$ x_{i + 1} = x_{i} - \\frac{f(x_{i})(x_{i} - x_{i-1})}{f(x_{i}) - f(x_{i -1})} $$\n",
        "The implementation is almost like that of False Position method.\n",
        "\n",
        "For every method, we needed to find out how many iterations it takes before finding the root and the error in each step. All that was done in a loop where the stopping condition was that the error was greater than the error allowed by us."
      ]
    },
    {
      "cell_type": "markdown",
      "metadata": {
        "id": "hfd4wo8kzDJC"
      },
      "source": [
        "#**PART 1**"
      ]
    },
    {
      "cell_type": "markdown",
      "metadata": {
        "id": "JownIwawzFyS"
      },
      "source": [
        "First, we import the necessary libraries."
      ]
    },
    {
      "cell_type": "code",
      "metadata": {
        "id": "8lTAuc3xzHb5"
      },
      "source": [
        "from math import exp, e\n",
        "import matplotlib.pyplot as plt\n",
        "import numpy as np\n",
        "from shapely.geometry import LineString\n",
        "from scipy.misc import derivative"
      ],
      "execution_count": null,
      "outputs": []
    },
    {
      "cell_type": "markdown",
      "metadata": {
        "id": "VyHxVKqHzI2y"
      },
      "source": [
        "Then, we define our function. As root finding also means finding zeroes of a fucntion, we subtracted 35 from the function to 'lower' it to 0."
      ]
    },
    {
      "cell_type": "code",
      "metadata": {
        "id": "XK8PEz6XzLED"
      },
      "source": [
        "def v(m):\n",
        "  g = 9.8\n",
        "  c = 15.0\n",
        "  t = 9.0\n",
        "  return g * m / c * (1.0 - exp(-(c / m)*t)) - 35"
      ],
      "execution_count": null,
      "outputs": []
    },
    {
      "cell_type": "markdown",
      "metadata": {
        "id": "E8oxw-6czONe"
      },
      "source": [
        "After that, we implement a code to execute the function and solve the problem graphically."
      ]
    },
    {
      "cell_type": "code",
      "metadata": {
        "colab": {
          "base_uri": "https://localhost:8080/",
          "height": 279
        },
        "id": "9Q_Kc34FzPFO",
        "outputId": "1b27656e-1647-4117-8307-fc2629188779"
      },
      "source": [
        "vel = []\n",
        "m = []\n",
        "for i in range(1, 100): #computing the velocity function\n",
        "  vel.append(v(i))\n",
        "  m.append(i)\n",
        "y = np.zeros(99) #filling an array with zeros to plot a horizontal line along the x-axis\n",
        "plt.plot(m, vel) #plotting the graph\n",
        "plt.plot(m, y)\n",
        "plt.xlabel('Mass m, kg')\n",
        "plt.ylabel('Velocity v, m/s')\n",
        "line_1 = LineString(np.column_stack((m, vel)))\n",
        "line_2 = LineString(np.column_stack((m, y)))\n",
        "intersection = line_1.intersection(line_2)\n",
        "plt.plot(*intersection.xy, 'ro') # finding the intersection of the two lines\n",
        "plt.annotate('m = %.2f \\n v = %.2f'%(intersection.x, intersection.y), (intersection.x, intersection.y), xytext = (42, 5))\n",
        "plt.legend(['Velocity as a function of mass', 'The value of velocity'], loc = 4)\n",
        "plt.show()"
      ],
      "execution_count": null,
      "outputs": [
        {
          "output_type": "display_data",
          "data": {
            "image/png": "[encoded data removed]",
            "text/plain": [
              "<Figure size 432x288 with 1 Axes>"
            ]
          },
          "metadata": {
            "tags": [],
            "needs_background": "light"
          }
        }
      ]
    },
    {
      "cell_type": "markdown",
      "metadata": {
        "id": "046IHNLczRaZ"
      },
      "source": [
        "As we can see from the graph, the mass of around 59.84 corresponds to the velocity value of 35 m/s."
      ]
    },
    {
      "cell_type": "markdown",
      "metadata": {
        "id": "_GM9753JzSuB"
      },
      "source": [
        "#**PART 2**"
      ]
    },
    {
      "cell_type": "code",
      "metadata": {
        "id": "QVPmOEG7zUJh"
      },
      "source": [
        "def falsePosition(xl, xu, error, n):\n",
        "  xr = xu\n",
        "  roots = [] #creating lists for graph axes\n",
        "  e = []\n",
        "  num = []\n",
        "  for i in range(1, n + 1):\n",
        "    xrold = xr #assigning\n",
        "    xr = xu - v(xu) * (xl - xu) / (v(xl) - v(xu)) #the formula of the method\n",
        "    if xr != 0.0:\n",
        "      e_abs = abs((xr - xrold) / xr) * 100 #error\n",
        "    num.append(i) #appending elements to corresponding lists\n",
        "    roots.append(xr)\n",
        "    e.append(e_abs)\n",
        "    if v(xl) * v(xr) > 0.0: #testing\n",
        "      xu = xr\n",
        "    elif v(xl) * v(xr) < 0.0:\n",
        "      xl = xr\n",
        "    else:\n",
        "      e_abs = 0.0\n",
        "    if e_abs < error:\n",
        "      break\n",
        "  plt.plot(num, e) #plotting the graph\n",
        "  plt.xlabel = ('Number of Iterations')\n",
        "  plt.ylabel = ('Error')\n",
        "  plt.show()\n",
        "  return i, xr, e_abs"
      ],
      "execution_count": null,
      "outputs": []
    },
    {
      "cell_type": "code",
      "metadata": {
        "colab": {
          "base_uri": "https://localhost:8080/",
          "height": 282
        },
        "id": "d5RnU2qyzWLB",
        "outputId": "e0cabb86-6e05-4202-c375-53542773a2c7"
      },
      "source": [
        "print(falsePosition(50, 70, 1e-12, 100))"
      ],
      "execution_count": null,
      "outputs": [
        {
          "output_type": "display_data",
          "data": {
            "image/png": "[encoded data removed]",
            "text/plain": [
              "<Figure size 432x288 with 1 Axes>"
            ]
          },
          "metadata": {
            "tags": [],
            "needs_background": "light"
          }
        },
        {
          "output_type": "stream",
          "text": [
            "(13, 59.84104474794875, 2.9684589346363995e-13)\n"
          ],
          "name": "stdout"
        }
      ]
    },
    {
      "cell_type": "markdown",
      "metadata": {
        "id": "xj8wJwDwzXqg"
      },
      "source": [
        "#**PART 3**"
      ]
    },
    {
      "cell_type": "code",
      "metadata": {
        "colab": {
          "base_uri": "https://localhost:8080/"
        },
        "id": "jHYg5KlQq2mp",
        "outputId": "dab46f28-ebef-4b5f-c45b-c13b280b5a14"
      },
      "source": [
        "m = 3\n",
        "derivative(v, m, dx = 1e-16)"
      ],
      "execution_count": null,
      "outputs": [
        {
          "output_type": "execute_result",
          "data": {
            "text/plain": [
              "0.0"
            ]
          },
          "metadata": {
            "tags": []
          },
          "execution_count": 9
        }
      ]
    },
    {
      "cell_type": "code",
      "metadata": {
        "id": "EPHGpG7CzZ3Z"
      },
      "source": [
        "def newton_raphson(m_init, error, n):\n",
        "  xr = m_init\n",
        "  roots = [] #creating lists for graph axes\n",
        "  e = []\n",
        "  num = []\n",
        "  for i in range(1, n + 1):\n",
        "    xrold = xr #assigning\n",
        "    xr = xrold - v(xrold) / derivative(v, xrold, dx = 1e-6) #the formula of the method\n",
        "    if xr != 0:\n",
        "      e_abs = abs((xr - xrold) / xr) * 100 #error\n",
        "    num.append(i) #appending elements to corresponding lists\n",
        "    roots.append(xr)\n",
        "    e.append(e_abs)\n",
        "    if (e_abs < error):\n",
        "      break\n",
        "  plt.plot(num, e) #plotting the graph\n",
        "  plt.xlabel = ('Number of Iterations')\n",
        "  plt.ylabel = ('Error')\n",
        "  plt.show()\n",
        "  return i, xr, e_abs"
      ],
      "execution_count": null,
      "outputs": []
    },
    {
      "cell_type": "code",
      "metadata": {
        "colab": {
          "base_uri": "https://localhost:8080/",
          "height": 282
        },
        "id": "hV6T5_bCzb6a",
        "outputId": "c9a25245-5e00-44f2-9bb5-6a40e7bc67c5"
      },
      "source": [
        "print(newton_raphson(50, 1e-12, 100))"
      ],
      "execution_count": null,
      "outputs": [
        {
          "output_type": "display_data",
          "data": {
            "image/png": "[encoded data removed]",
            "text/plain": [
              "<Figure size 432x288 with 1 Axes>"
            ]
          },
          "metadata": {
            "tags": [],
            "needs_background": "light"
          }
        },
        {
          "output_type": "stream",
          "text": [
            "(5, 59.84104474794874, 0.0)\n"
          ],
          "name": "stdout"
        }
      ]
    },
    {
      "cell_type": "markdown",
      "metadata": {
        "id": "aENQIzFazdXB"
      },
      "source": [
        "#**PART 4**"
      ]
    },
    {
      "cell_type": "code",
      "metadata": {
        "id": "TSACnlkzzkZY"
      },
      "source": [
        "def secant(x0, x1, error, n):\n",
        "  roots = [] #creating lists for graph axes\n",
        "  e = []\n",
        "  num = []\n",
        "  for i in range(1, n + 1):\n",
        "    if v(x1) - v(x0) == 0:\n",
        "      return x1\n",
        "    xr = x1 - (v(x1) * (x1 - x0) * 1.0) / (v(x1) - v(x0)) #the formula of the method\n",
        "    x0 = x1 #assigning\n",
        "    x1 = xr\n",
        "    if (xr != 0):\n",
        "      e_abs = abs((xr - x0) / xr) * 100 #the error\n",
        "    num.append(i) #appending elements to the corresponding lists\n",
        "    roots.append(xr)\n",
        "    e.append(e_abs)\n",
        "    if e_abs < error:\n",
        "      break\n",
        "  plt.plot(num, e)\n",
        "  plt.show()\n",
        "  return i, xr, e_abs"
      ],
      "execution_count": null,
      "outputs": []
    },
    {
      "cell_type": "code",
      "metadata": {
        "colab": {
          "base_uri": "https://localhost:8080/",
          "height": 282
        },
        "id": "bxtyjjZ5zli5",
        "outputId": "de08c637-b0b1-4774-dd92-09bce1ce57fc"
      },
      "source": [
        "print(secant(50, 70, 1e-12, 100))"
      ],
      "execution_count": null,
      "outputs": [
        {
          "output_type": "display_data",
          "data": {
            "image/png": "[encoded data removed]",
            "text/plain": [
              "<Figure size 432x288 with 1 Axes>"
            ]
          },
          "metadata": {
            "tags": [],
            "needs_background": "light"
          }
        },
        {
          "output_type": "stream",
          "text": [
            "(6, 59.84104474794874, 1.662337003396384e-13)\n"
          ],
          "name": "stdout"
        }
      ]
    },
    {
      "cell_type": "markdown",
      "metadata": {
        "id": "cLY2fralznzY"
      },
      "source": [
        "#**PART 5**\n",
        "\n",
        "The convergence rates for the methods are as follows:\n",
        "\n",
        "False Position - 12\n",
        "\n",
        "Newton-Raphson - 5\n",
        "\n",
        "Secant - 6"
      ]
    },
    {
      "cell_type": "markdown",
      "metadata": {
        "id": "rzhVoBgwzpYS"
      },
      "source": [
        "#**PART 6**\n",
        "\n",
        "The maximum precision of each method is as follows:\n",
        "\n",
        "False position - $2.97 \\times 10^{-13}$\n",
        "\n",
        "Newton-Raphson - $2.37 \\times 10^{-14}$\n",
        "\n",
        "Secant - $1.66 \\times 10^{-13}$"
      ]
    },
    {
      "cell_type": "markdown",
      "metadata": {
        "id": "PmwulKHrzrCJ"
      },
      "source": [
        "#**PART 7**\n",
        "\n",
        "Looking at the results, it can be said that the Newton-Ralphson method is the fastest and the most precise because it took less number of iterations and had the smallest error."
      ]
    },
    {
      "cell_type": "markdown",
      "metadata": {
        "id": "Q5Qz0reOzsIZ"
      },
      "source": [
        "#**Conclusion**\n",
        "\n",
        "One of the open methods, Newton-Ralphson, turned out to be the fastest. However, this is not always the case. Although open methods are quick, they are not always reliable. Vice versa, bracketing methods like False Position technique are much slower but more reliable. It was seen in this experiment - False Position method took almost twice as many iterations as the open methods. Therefore, if we need to find the roots of an equation very fastly, we can try open methods (bearing in mind that the answer may not be right) but if we need a secure answer, then we can use bracketing methods."
      ]
    }
  ]
}