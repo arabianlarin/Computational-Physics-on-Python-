{
  "nbformat": 4,
  "nbformat_minor": 0,
  "metadata": {
    "colab": {
      "name": "ODEs and Runge-Kutta Method.ipynb",
      "provenance": []
    },
    "kernelspec": {
      "name": "python3",
      "display_name": "Python 3"
    }
  },
  "cells": [
    {
      "cell_type": "markdown",
      "metadata": {
        "id": "ysA45nwH37Y0"
      },
      "source": [
        "# PHYS270 Assignment 10: ODEs and Runge-Kutta method\n",
        "\n",
        "Consider ordinary differential equation\n",
        "\n",
        "$$ \\frac{d^2\\!y}{dt^2}+4y=0$$\n",
        "\n",
        "with initial conditions $y(0)=1$ and $y'(0)=0$. Obtain the numerical soluton of this equation in the interval from $t=0$ to $t=4$ with $0.1\\%$ accuracy using\n",
        "\n",
        "(**a**) the midpoint method (given by Eq. 25.37 of the book). Find the stepsize $\\Delta t$ that yields the required accuracy. \n",
        "\n",
        "(**b**) the 3rd-order Runge-Kutta method (given by Eq. 25.39 in the book). Find the stepsize $\\Delta t$ that yields the required accuracy.\n",
        "\n",
        "(**c**) the 4th-order Runge-Kutta method (given by Eq. 25.40 in the book). Find the stepsize $\\Delta t$ that yields the required accuracy.\n",
        "\n",
        "(**d**) the 5th-order Runge-Kutta method (given by Eq. 25.41 in the book). Find the stepsize $\\Delta t$ that yields the required accuracy.\n",
        "\n",
        "(**e**) Provide an easy-to-understand plots of all the solutions (including the exact analytical solution) in one frame using the $\\tt matplotlib$ library.\n",
        "\n",
        "(**f**) Asses which method yields the required accuracy with the lowest computational cost. \n",
        "\n",
        "**Note:** The above equation numbers correspond to the 7th edition of the Chapra & Canale book. \n",
        "\n",
        "**Hint:** Since this equation has an exact analytical solution, you can measure the error of the numerical solution by calculating the the RMS difference between the numerical and the analytical solutions at every point of the numerical grade. \n",
        "\n",
        "\n"
      ]
    },
    {
      "cell_type": "markdown",
      "metadata": {
        "id": "f1BjmdqTFoUV"
      },
      "source": [
        "#Abstract\n",
        "This assignment is directed at numerical solving of Differential Equations of the second order using 4 methods. As a result, midpoint method and the Runge-Kutta method of different orders were compared. The comparison was based on the accuracy of methods and their computational costs. Basing on the results, the midpoint method could be claimed to be the most efficient, since it has a lower computational cost and achieves the same accuracy as other methods."
      ]
    },
    {
      "cell_type": "markdown",
      "metadata": {
        "id": "KBhAvAPuG_Pk"
      },
      "source": [
        "#Introduction\n",
        "An ordinary differential equation of form\n",
        "\n",
        "$$ \\frac{d^2\\!y}{dt^2}+4y=0$$\n",
        "was given. The initial conditions for this equation were:\n",
        "$$y(0) = 1$$\n",
        "$$y'(0) = 0$$\n",
        "It has a simple solution, which could be calculate by hand or using a CAS such as Methematica. The solution is :\n",
        "$$y = cos(2*x)$$\n",
        "In this assignment I will try to solve this ordinary differential equation using the midpoint method and Runge-Kutta method of 3rd, 4th and 5th orders. The methods will be evaluated basing on the time it takes them to achive the error rate of $0.1\\%$. The error rate will be calculated as an average perent error on the interval [0, 4]."
      ]
    },
    {
      "cell_type": "code",
      "metadata": {
        "id": "3M8p5IpoLiOu"
      },
      "source": [
        "import numpy as np\n",
        "import matplotlib.pyplot as plt\n",
        "from typing import Callable"
      ],
      "execution_count": null,
      "outputs": []
    },
    {
      "cell_type": "code",
      "metadata": {
        "id": "RVX_Oza7H-2v"
      },
      "source": [
        "# first of all, the function for error should be calculated\n",
        "def error(pred, sz=1000):\n",
        "  interval = np.linspace(0, 4, sz)\n",
        "  true = np.cos(2 * interval)\n",
        "  return (np.abs((true - pred) / true)* 100).mean() \n",
        "\n"
      ],
      "execution_count": null,
      "outputs": []
    },
    {
      "cell_type": "markdown",
      "metadata": {
        "id": "pr3pliVaMytD"
      },
      "source": [
        "#Methodology\n",
        "##Midpoint method\n",
        "This method attempts to find the next value of a function using its current value + a value computated using 2 slopes. \n",
        "$$K_1 = step * \\frac{dy}{dx}$$\n",
        "$$K_2 = step * \\frac{dy+K_1*(h/2)}{d(x+h/2)}$$\n",
        "$$y_{n+1} = y_{n} + K_2 + h^3$$"
      ]
    },
    {
      "cell_type": "code",
      "metadata": {
        "id": "ZGrwfUstMKKa"
      },
      "source": [
        "from time import time\n",
        "def dydx(y, x):\n",
        "  return  -4 * y\n",
        "def dxdy(y, x):\n",
        "  return x\n",
        "sz = 30000\n",
        "h = 4/sz\n",
        "ys, xs = [0 for i in range(sz)], [i * h for i in range(sz)]\n",
        "ys[0] = 1\n",
        "tick = time()\n",
        "for i in range(1, sz):\n",
        "  k1 = dydx(ys[i-1], xs[i-1])\n",
        "  k2 = dydx(ys[i-1] + h/2, xs[i - 1] + k1 * h/2)\n",
        "  xs[i] = xs[i - 1] + k2 * h\n",
        "  k1 = dxdy(ys[i-1], xs[i-1])\n",
        "  k2 = dxdy(ys[i-1] + h/2, xs[i-1] + k1 * h/2)\n",
        "  ys[i] = ys[i-1] + k2 * h\n",
        "tock = time()"
      ],
      "execution_count": null,
      "outputs": []
    },
    {
      "cell_type": "code",
      "metadata": {
        "colab": {
          "base_uri": "https://localhost:8080/"
        },
        "id": "1GhAeLYkgSyR",
        "outputId": "ee212650-c5d4-466f-dd2f-8e47686de090"
      },
      "source": [
        "print(f'Error approximating using {sz} steps is {error(ys, sz)}%\\n It took {(tock - tick)} seconds * 10^-3')"
      ],
      "execution_count": null,
      "outputs": [
        {
          "output_type": "stream",
          "text": [
            "Error approximating using 30000 steps is 0.09783750811579231%\n",
            " It took 0.07037925720214844 seconds * 10^-3\n"
          ],
          "name": "stdout"
        }
      ]
    },
    {
      "cell_type": "markdown",
      "metadata": {
        "id": "CGa7brgRiALR"
      },
      "source": [
        "##Runge-Kutta 3rd, 4th and 5th order\n",
        "Actually, the previous approach was Runge-Kutta 2n order algorithm. Every next method utilize the same principle, but there are K-s of higher orders. \n",
        "For the 3rd order additional $K_3$ is added:\n",
        "$$K_3 = \\frac{dy+h}{dx - 1/2hK_1 + 1/2h*K_2}$$\n",
        "The y and x are then adjusted by $\\frac{1}{6} * W$, where $W$ is the weighted sum of K's. <br>\n",
        "For 4th and 5th order the principle is the same. Only weights for the weighted sum change. \n"
      ]
    },
    {
      "cell_type": "markdown",
      "metadata": {
        "id": "3g3zb_feq6t1"
      },
      "source": [
        "###3rd Order"
      ]
    },
    {
      "cell_type": "code",
      "metadata": {
        "id": "6zIEiuUplU9O"
      },
      "source": [
        "from time import time\n",
        "def dydx(y, x):\n",
        "  return  -4 * y\n",
        "def dxdy(y, x):\n",
        "  return x\n",
        "sz = 35300\n",
        "h = 4/sz\n",
        "ys3, xs = [0 for i in range(sz)], [i * h for i in range(sz)]\n",
        "ys3[0] = 1\n",
        "tick = time()\n",
        "for i in range(1, sz):\n",
        "  k1 = dydx(ys3[i-1], xs[i-1])\n",
        "  k2 = dydx(ys3[i-1] + h/2, xs[i - 1] + k1 * h/2)\n",
        "  k3 = dydx(ys3[i-1] + h, xs[i-1] - k1 * h/2 + k2 * h/2)\n",
        "  xs[i] = xs[i - 1] + h * (k1 + 4 * k2 + k3) / 6\n",
        "  k1 = dxdy(ys3[i-1], xs[i-1])\n",
        "  k2 = dxdy(ys3[i-1] + h/2, xs[i-1] + k1 * h/2)\n",
        "  k3 = dxdy(ys3[i-1] + h, xs[i-1] - k1 * h/2 + k2 * h/2)\n",
        "  ys3[i] = ys3[i-1] + h * (k1 + 4 * k2 + k3) / 6\n",
        "tock = time()"
      ],
      "execution_count": null,
      "outputs": []
    },
    {
      "cell_type": "code",
      "metadata": {
        "colab": {
          "base_uri": "https://localhost:8080/"
        },
        "id": "9Id2yIjmmk7e",
        "outputId": "21358b22-fbd6-45e3-83c1-5453001043ae"
      },
      "source": [
        "print(f'Error approximating using {sz} steps is {error(ys3, sz)}%\\n It took {(tock - tick)} seconds * 10^-3')"
      ],
      "execution_count": null,
      "outputs": [
        {
          "output_type": "stream",
          "text": [
            "Error approximating using 35300 steps is 0.0917118136688741%\n",
            " It took 0.13677000999450684 seconds * 10^-3\n"
          ],
          "name": "stdout"
        }
      ]
    },
    {
      "cell_type": "markdown",
      "metadata": {
        "id": "fK6sTNrFq8uG"
      },
      "source": [
        "###4th Order"
      ]
    },
    {
      "cell_type": "code",
      "metadata": {
        "id": "TK7d5cNPnHJQ"
      },
      "source": [
        "from time import time\n",
        "def dydx(y, x):\n",
        "  return  -4 * y\n",
        "def dxdy(y, x):\n",
        "  return x\n",
        "sz = 35300\n",
        "h = 4/sz\n",
        "ys4, xs = [0 for i in range(sz)], [i * h for i in range(sz)]\n",
        "ys4[0] = 1\n",
        "tick = time()\n",
        "for i in range(1, sz):\n",
        "  k1 = dydx(ys4[i-1], xs[i-1])\n",
        "  k2 = dydx(ys4[i-1] + h/2, xs[i-1] + k1 * h/2)\n",
        "  k3 = dydx(ys4[i-1] + h/2, xs[i-1] + k2 * h/2)\n",
        "  k4 = dydx(ys4[i-1] + h, xs[i-1] + k3 * h)\n",
        "  xs[i] = xs[i - 1] + h * (k1 + 2 * k2 + 2 * k3 + k4) / 6\n",
        "  k1 = dxdy(ys4[i-1], xs[i-1])\n",
        "  k2 = dxdy(ys4[i-1] + h/2, xs[i-1] + k1 * h/2)\n",
        "  k3 = dxdy(ys4[i-1] + h/2, xs[i-1] + k2 * h/2)\n",
        "  k4 = dxdy(ys4[i-1] + h, xs[i-1] + k3 * h)\n",
        "  ys4[i] = ys4[i-1] +  h * (k1 + 2 * k2 + 2 * k3 + k4) / 6\n",
        "tock = time()"
      ],
      "execution_count": null,
      "outputs": []
    },
    {
      "cell_type": "code",
      "metadata": {
        "colab": {
          "base_uri": "https://localhost:8080/"
        },
        "id": "qpz1g8vIruYD",
        "outputId": "47d474de-fb8c-4601-817a-4786ca487d06"
      },
      "source": [
        "print(f'Error approximating using {sz} steps is {error(ys4, sz)}%\\n It took {(tock - tick)} seconds * 10^-3')"
      ],
      "execution_count": null,
      "outputs": [
        {
          "output_type": "stream",
          "text": [
            "Error approximating using 35300 steps is 0.09285575059122816%\n",
            " It took 0.15373826026916504 seconds * 10^-3\n"
          ],
          "name": "stdout"
        }
      ]
    },
    {
      "cell_type": "markdown",
      "metadata": {
        "id": "c7Okrfr0sT8W"
      },
      "source": [
        "###5th Order"
      ]
    },
    {
      "cell_type": "code",
      "metadata": {
        "id": "1weKMelVsWIk"
      },
      "source": [
        "from time import time\n",
        "def dydx(y, x):\n",
        "  return  -4 * y\n",
        "def dxdy(y, x):\n",
        "  return x\n",
        "sz = 36000\n",
        "h = 4/sz\n",
        "ys5, xs = [0 for i in range(sz)], [i * h for i in range(sz)]\n",
        "ys5[0] = 1\n",
        "tick = time()\n",
        "for i in range(1, sz):\n",
        "  k1 = dydx(ys5[i-1], xs[i-1])\n",
        "  k2 = dydx(ys5[i-1] + h/4, xs[i - 1] + k1 * h/4)\n",
        "  k3 = dydx(ys5[i-1] + h/4, xs[i - 1] + (k1 + k2) * h/8)\n",
        "  k4 = dydx(ys5[i-1] + h/2, xs[i - 1] - (k2/4 - k3) * h)\n",
        "  k5 = dydx(ys5[i-1] + 3 * h/4, xs[i - 1] + (3 * k1 + 9 * k4) * h/16)\n",
        "  k6 = dydx(ys5[i-1] + h, xs[i - 1] - (3*k1 - 2*k2 - 12*(k3 - k4) - 8*k5)*h/7)\n",
        "  xs[i] = xs[i - 1] + h * (7 * k1 +  32 * k3 + 12 * k4 + 7 * k6 + 32*k5 ) / 90\n",
        "  k1 = dxdy(ys5[i-1], xs[i-1])\n",
        "  k2 = dxdy(ys5[i-1] + h/4, xs[i - 1] + k1 * h/4)\n",
        "  k3 = dxdy(ys5[i-1] + h/4, xs[i - 1] + (k1 + k2) * h/8)\n",
        "  k4 = dxdy(ys5[i-1] + h/2, xs[i - 1] - (k2/4 - k3) * h)\n",
        "  k5 = dxdy(ys5[i-1] + 3 * h/4, xs[i - 1] + (3 * k1 + 9 * k4) * h/16)\n",
        "  k6 = dxdy(ys5[i-1] + h, xs[i - 1] - (3*k1 - 2*k2 - 12*(k3 - k4) - 8*k5)*h/7)\n",
        "  ys5[i] = ys5[i-1] +  h * (7 * k1 +  32 * k3 + 12 * k4 + 7 * k6 + 32*k5 ) / 90\n",
        "tock = time()"
      ],
      "execution_count": null,
      "outputs": []
    },
    {
      "cell_type": "code",
      "metadata": {
        "colab": {
          "base_uri": "https://localhost:8080/"
        },
        "id": "5F8vCXvFvaR_",
        "outputId": "3dcd90cf-3179-4bcd-8dbd-b847b86fa376"
      },
      "source": [
        "print(f'Error approximating using {sz} steps is {error(ys5, sz)}%\\n It took {(tock - tick)} seconds * 10^-3')"
      ],
      "execution_count": null,
      "outputs": [
        {
          "output_type": "stream",
          "text": [
            "Error approximating using 36000 steps is 0.09307419806964513%\n",
            " It took 0.2965965270996094 seconds * 10^-3\n"
          ],
          "name": "stdout"
        }
      ]
    },
    {
      "cell_type": "markdown",
      "metadata": {
        "id": "IgPZi8HJvr6A"
      },
      "source": [
        "##Results comparison"
      ]
    },
    {
      "cell_type": "code",
      "metadata": {
        "colab": {
          "base_uri": "https://localhost:8080/",
          "height": 918
        },
        "id": "T5Kk5aj8vvJk",
        "outputId": "a5a11829-6a24-4ac0-bd25-ddeafcc75d7e"
      },
      "source": [
        "plt.subplots(figsize = (20,16))\n",
        "plt.plot(np.linspace(0, 4, 30000), ys, c='r', label=\"Midpoint method\")\n",
        "plt.plot(np.linspace(0, 4, 35300), ys3, c='b', label=\"Rugge-Cutta 3rd order\")\n",
        "plt.plot(np.linspace(0, 4, 35300), ys4, c='g', label=\"Rugge-Cutta 4th order\")\n",
        "plt.plot(np.linspace(0, 4, 36000), ys5, c='c', label=\"Rugge-Cutta 5th order\")\n",
        "plt.plot(np.linspace(0, 4, 36000), np.cos(2 * np.linspace(0, 4, 36000)), c='m', label=\"cos(2x)\")\n",
        "\n",
        "plt.grid()\n",
        "plt.legend()\n",
        "plt.show()"
      ],
      "execution_count": null,
      "outputs": [
        {
          "output_type": "display_data",
          "data": {
            "image/png": "[encoded data removed]",
            "text/plain": [
              "<Figure size 1440x1152 with 1 Axes>"
            ]
          },
          "metadata": {
            "tags": [],
            "needs_background": "light"
          }
        }
      ]
    },
    {
      "cell_type": "markdown",
      "metadata": {
        "id": "ZksTY93zw5US"
      },
      "source": [
        "#Conclusion\n",
        "To sum up, the midpoint method, despite being the simpliest one, took less iterations to give the needed accuracy. Also, the time needed for it to produce adequate solutions is 2 times less than the time required by other methods. The reason is less complex operations used for this method. <br>\n",
        "However, if the task was to solve not an ordinary DE, this method wold fail, so probably, for simple Differential Equations we can use the Rugge-Cutta method of 2nd order (midpoint method), while for more complicated cases we need a higher order."
      ]
    },
    {
      "cell_type": "code",
      "metadata": {
        "id": "iEZq9l-Ix3IO"
      },
      "source": [
        ""
      ],
      "execution_count": null,
      "outputs": []
    }
  ]
}