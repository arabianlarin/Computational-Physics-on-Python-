{
  "nbformat": 4,
  "nbformat_minor": 0,
  "metadata": {
    "colab": {
      "name": "ODEs: Boundary-Value Problems.ipynb",
      "provenance": [],
      "collapsed_sections": []
    },
    "kernelspec": {
      "name": "python3",
      "display_name": "Python 3"
    },
    "language_info": {
      "name": "python"
    }
  },
  "cells": [
    {
      "cell_type": "markdown",
      "metadata": {
        "id": "LnagDK4BJ4OQ"
      },
      "source": [
        "##Abstract \n",
        "The aim of the experiment to compare two different methods of solving boundary-value problems of ODE. The shooting method showed faster running time than the finite difference method, while precision was the same."
      ]
    },
    {
      "cell_type": "markdown",
      "metadata": {
        "id": "YLymZH6gJ4GH"
      },
      "source": [
        "##Introduction\n",
        "A boundary-value problem is a system of ODE with solution in more than 1 point. The solution for such problems differs from regular one, since the regular nth-order ODE has n required conditions, while a boundary-value problem might no have. The problem of this assignment to solve ODE  $\\frac{d^2\\!y}{dt^2}+4y=0$  which has solution in more than 1 point,  $y(0)=1$ and $y(\\frac{\\pi}{4})=5$ . There is no y'(0) in initial conditions, that is why it cannot be solved with regular approach. Therefore, the shooting method and the finite difference method were used to solve it and compared with each other."
      ]
    },
    {
      "cell_type": "markdown",
      "metadata": {
        "id": "wCgYs4k8J39w"
      },
      "source": [
        "##Method \n",
        "\n",
        "\n",
        "> **The shooting method**\n",
        "\n",
        "This method based on converting boundary-value problem into an equivalent initial-value problem. The shooting method can be divided into 5 stages.\n",
        "1. Converting the high order ODE into system of 1st order ODE's\n",
        "2. Predict the value of z0\n",
        "3. Solve ODE with Fourth-Order Runge-Kutta order 4, euler or any other method with initial guess \n",
        "4. Re-estimate initial condition of z0 and solve ODE again \n",
        "5. Find approximate solution of required accuracy by secant method, as 2 initial guesses can be calculated.\n",
        "\n",
        "\n",
        "\n",
        "\n",
        "> **The finite difference method**\n",
        "the finite difference method uses finite difference formulas at evenly spaced interval points to approximate the ODE. \n",
        "$$\\frac{dy}{dx} = \\frac{y_{i+1}-y_{i-1}}{2h}$$\n",
        "$$\\frac{d^2y}{dx^2} = \\frac{y_{i+1}-2y_i +y_{i-1}}{h^2}$$\n",
        "$$AY = b$$\n",
        "This matrix of linear Algebraic Equations can be solve by Thomas algorithm.\n",
        "\n",
        "\n",
        "\n",
        "\n",
        "\n"
      ]
    },
    {
      "cell_type": "code",
      "metadata": {
        "id": "irvD53ZZ0OEH"
      },
      "source": [
        "import sys\n",
        "import matplotlib.pyplot as plt\n",
        "import numpy as np\n",
        "import math\n",
        "from scipy.integrate import odeint"
      ],
      "execution_count": null,
      "outputs": []
    },
    {
      "cell_type": "code",
      "metadata": {
        "id": "p2BIjK7f2yVR"
      },
      "source": [
        "def dzdt(y):\n",
        "  return -4*y\n",
        "\n",
        "def f(t): \n",
        "  return np.cos(2*t)+5*np.sin(2*t)\n"
      ],
      "execution_count": null,
      "outputs": []
    },
    {
      "cell_type": "code",
      "metadata": {
        "id": "pEexToEJvVvx"
      },
      "source": [
        "def euler(f, a, b,u, N):\n",
        "  h = (b-a)/N\n",
        "  t = np.zeros((N+1,)) # mesh\n",
        "  y = np.zeros((N+1,))\n",
        "  z = np.zeros((N+1,))\n",
        "  t[0] = a\n",
        "  y[0] = 1\n",
        "  z[0] = u\n",
        "  for i in range(1, N+1):\n",
        "    t[i] = t[0] + i*h\n",
        "    y[i] = y[i-1] + h*z[i-1]\n",
        "    z[i] = z[i-1] + f(y[i-1])*h\n",
        "    \n",
        "  return y, t"
      ],
      "execution_count": null,
      "outputs": []
    },
    {
      "cell_type": "code",
      "metadata": {
        "id": "VUBXVacyzzBJ"
      },
      "source": [
        "def G(x):\n",
        "  y1, t1 = euler(dzdt, 0, math.pi/4, x , 12000)\n",
        "  return y1[-1]-5"
      ],
      "execution_count": null,
      "outputs": []
    },
    {
      "cell_type": "code",
      "metadata": {
        "id": "QejQVUnN0TUp"
      },
      "source": [
        "def secant(G, m0, ml, e):\n",
        "  G0 = G(m0)\n",
        "  G1 = G(ml)\n",
        "\n",
        "  while abs((ml -m0)/ml) > e:\n",
        "            m = ml - G1*(ml-m0)/(G1 - G0)\n",
        "            m0 = ml\n",
        "            ml = m\n",
        "            G0 = G1\n",
        "            G1 = G(m)\n",
        "  return m"
      ],
      "execution_count": null,
      "outputs": []
    },
    {
      "cell_type": "code",
      "metadata": {
        "id": "ckBzn9WSTO4m"
      },
      "source": [
        "def tm(a, b, c, d, n):\n",
        "  #a is a array of values of lower diagonal\n",
        "  #b is a array of values of main diagonal \n",
        "  #c is a array of values of upper diagonal\n",
        "  #d is a right side of system \n",
        "  x=np.zeros(n)\n",
        "  #copy array\n",
        "  aa, bb, cc, dd = map(np.array, (a,b,c,d)) \n",
        "   # elemination \n",
        "  for i in range(1, n):\n",
        "    bb[i] = bb[i] - aa[i-1]/bb[i-1]*cc[i-1]\n",
        "    dd[i] = dd[i] - aa[i-1]/bb[i-1]*dd[i-1]\n",
        "  #x[n-1]*b[n-1]=d[n-1]\n",
        "  x[n-1] = dd[n-1]/bb[n-1]\n",
        "\n",
        "  #backsubstitution\n",
        "  for i in range(n-2,-1,-1):\n",
        "     x[i] = (dd[i]-cc[i]*x[i+1])/bb[i]\n",
        "     \n",
        "  return x"
      ],
      "execution_count": null,
      "outputs": []
    },
    {
      "cell_type": "code",
      "metadata": {
        "id": "tjGJuxOeiAHq"
      },
      "source": [
        "def infin(n):\n",
        "  h = math.pi/4/n\n",
        "  A = np.zeros((n+1, n+1))\n",
        "  A[0, 0] = 1\n",
        "  A[n, n] = 2-4*h**2\n",
        "  A[n, n-1] = -1\n",
        "  for i in range(1, n):\n",
        "    A[i, i-1] = -1\n",
        "    A[i, i] = 2-4*h**2\n",
        "    A[i, i+1] = -1\n",
        "\n",
        "  k =len(A)\n",
        "\n",
        "  a = np.zeros(n+1)\n",
        "  d = np.zeros(n+1)\n",
        "  c = np.zeros(n+1)\n",
        "  a[0] = 0\n",
        "  d[0] = 1\n",
        "  c[0] = -1\n",
        "  for i in range(1, n+1):\n",
        "    a[i] = A[i, i-1]\n",
        "    d[i] = A[i, i]\n",
        "  for i in range(1, n):\n",
        "    c[i] = A[i, i+1]\n",
        "\n",
        "\n",
        "\n",
        "  b = np.zeros(n+1)\n",
        "  b[0] = 1\n",
        "  for i in range(1, n+1):\n",
        "    b[i] = 0\n",
        "    b[-1] = 5\n",
        "\n",
        "\n",
        "  y = tm(c, d, a, b, k)\n",
        "  t = np.linspace(0, math.pi/4, n+1)\n",
        "  y[-1] = 5\n",
        "  \n",
        "  return y, t\n"
      ],
      "execution_count": null,
      "outputs": []
    },
    {
      "cell_type": "code",
      "metadata": {
        "colab": {
          "base_uri": "https://localhost:8080/"
        },
        "id": "W8lTQEYFIjZI",
        "outputId": "024978d3-36b3-4909-820c-5fc1dec54f6f"
      },
      "source": [
        "%%timeit\n",
        "n = 9000\n",
        "k = 1\n",
        "c = 0\n",
        "while k > 0.0001:\n",
        "  n +=100\n",
        "  y1 ,t1 = infin(n)\n",
        "  c = np.sum((f(t1)-y1)**2)\n",
        "  k = (c/n)**(1/2)\n",
        "print(n)"
      ],
      "execution_count": null,
      "outputs": [
        {
          "output_type": "stream",
          "text": [
            "1 loop, best of 5: 5.72 s per loop\n"
          ],
          "name": "stdout"
        }
      ]
    },
    {
      "cell_type": "code",
      "metadata": {
        "colab": {
          "base_uri": "https://localhost:8080/"
        },
        "id": "qj2P7WGmuvNc",
        "outputId": "5773e0f7-99da-47f8-99b6-1a8effa79078"
      },
      "source": [
        "#the finite difference method\n",
        "%%timeit\n",
        "y1, t1 = infin(11200)"
      ],
      "execution_count": null,
      "outputs": [
        {
          "output_type": "stream",
          "text": [
            "1 loop, best of 5: 303 ms per loop\n"
          ],
          "name": "stdout"
        }
      ]
    },
    {
      "cell_type": "code",
      "metadata": {
        "colab": {
          "base_uri": "https://localhost:8080/",
          "height": 370
        },
        "id": "EIvkCImGsif2",
        "outputId": "d7fb1076-e112-4cd9-8ea5-d53787c98be1"
      },
      "source": [
        "#the shooting method\n",
        "%%timeit\n",
        "x = secant(G, 1, 5, 0.0001)\n",
        "print(X)\n",
        "y2, t2 = euler(dzdt, 0, math.pi/4, x , 12000)"
      ],
      "execution_count": null,
      "outputs": [
        {
          "output_type": "error",
          "ename": "NameError",
          "evalue": "ignored",
          "traceback": [
            "\u001b[0;31m---------------------------------------------------------------------------\u001b[0m",
            "\u001b[0;31mNameError\u001b[0m                                 Traceback (most recent call last)",
            "\u001b[0;32m<ipython-input-43-f228030a691f>\u001b[0m in \u001b[0;36m<module>\u001b[0;34m()\u001b[0m\n\u001b[0;32m----> 1\u001b[0;31m \u001b[0mget_ipython\u001b[0m\u001b[0;34m(\u001b[0m\u001b[0;34m)\u001b[0m\u001b[0;34m.\u001b[0m\u001b[0mrun_cell_magic\u001b[0m\u001b[0;34m(\u001b[0m\u001b[0;34m'timeit'\u001b[0m\u001b[0;34m,\u001b[0m \u001b[0;34m''\u001b[0m\u001b[0;34m,\u001b[0m \u001b[0;34m'x = secant(G, 1, 5, 0.0001)\\nprint(X)\\ny2, t2 = euler(dzdt, 0, math.pi/4, x , 12000)'\u001b[0m\u001b[0;34m)\u001b[0m\u001b[0;34m\u001b[0m\u001b[0;34m\u001b[0m\u001b[0m\n\u001b[0m",
            "\u001b[0;32m/usr/local/lib/python3.7/dist-packages/IPython/core/interactiveshell.py\u001b[0m in \u001b[0;36mrun_cell_magic\u001b[0;34m(self, magic_name, line, cell)\u001b[0m\n\u001b[1;32m   2115\u001b[0m             \u001b[0mmagic_arg_s\u001b[0m \u001b[0;34m=\u001b[0m \u001b[0mself\u001b[0m\u001b[0;34m.\u001b[0m\u001b[0mvar_expand\u001b[0m\u001b[0;34m(\u001b[0m\u001b[0mline\u001b[0m\u001b[0;34m,\u001b[0m \u001b[0mstack_depth\u001b[0m\u001b[0;34m)\u001b[0m\u001b[0;34m\u001b[0m\u001b[0;34m\u001b[0m\u001b[0m\n\u001b[1;32m   2116\u001b[0m             \u001b[0;32mwith\u001b[0m \u001b[0mself\u001b[0m\u001b[0;34m.\u001b[0m\u001b[0mbuiltin_trap\u001b[0m\u001b[0;34m:\u001b[0m\u001b[0;34m\u001b[0m\u001b[0;34m\u001b[0m\u001b[0m\n\u001b[0;32m-> 2117\u001b[0;31m                 \u001b[0mresult\u001b[0m \u001b[0;34m=\u001b[0m \u001b[0mfn\u001b[0m\u001b[0;34m(\u001b[0m\u001b[0mmagic_arg_s\u001b[0m\u001b[0;34m,\u001b[0m \u001b[0mcell\u001b[0m\u001b[0;34m)\u001b[0m\u001b[0;34m\u001b[0m\u001b[0;34m\u001b[0m\u001b[0m\n\u001b[0m\u001b[1;32m   2118\u001b[0m             \u001b[0;32mreturn\u001b[0m \u001b[0mresult\u001b[0m\u001b[0;34m\u001b[0m\u001b[0;34m\u001b[0m\u001b[0m\n\u001b[1;32m   2119\u001b[0m \u001b[0;34m\u001b[0m\u001b[0m\n",
            "\u001b[0;32m<decorator-gen-52>\u001b[0m in \u001b[0;36mtimeit\u001b[0;34m(self, line, cell)\u001b[0m\n",
            "\u001b[0;32m/usr/local/lib/python3.7/dist-packages/IPython/core/magic.py\u001b[0m in \u001b[0;36m<lambda>\u001b[0;34m(f, *a, **k)\u001b[0m\n\u001b[1;32m    186\u001b[0m     \u001b[0;31m# but it's overkill for just that one bit of state.\u001b[0m\u001b[0;34m\u001b[0m\u001b[0;34m\u001b[0m\u001b[0;34m\u001b[0m\u001b[0m\n\u001b[1;32m    187\u001b[0m     \u001b[0;32mdef\u001b[0m \u001b[0mmagic_deco\u001b[0m\u001b[0;34m(\u001b[0m\u001b[0marg\u001b[0m\u001b[0;34m)\u001b[0m\u001b[0;34m:\u001b[0m\u001b[0;34m\u001b[0m\u001b[0;34m\u001b[0m\u001b[0m\n\u001b[0;32m--> 188\u001b[0;31m         \u001b[0mcall\u001b[0m \u001b[0;34m=\u001b[0m \u001b[0;32mlambda\u001b[0m \u001b[0mf\u001b[0m\u001b[0;34m,\u001b[0m \u001b[0;34m*\u001b[0m\u001b[0ma\u001b[0m\u001b[0;34m,\u001b[0m \u001b[0;34m**\u001b[0m\u001b[0mk\u001b[0m\u001b[0;34m:\u001b[0m \u001b[0mf\u001b[0m\u001b[0;34m(\u001b[0m\u001b[0;34m*\u001b[0m\u001b[0ma\u001b[0m\u001b[0;34m,\u001b[0m \u001b[0;34m**\u001b[0m\u001b[0mk\u001b[0m\u001b[0;34m)\u001b[0m\u001b[0;34m\u001b[0m\u001b[0;34m\u001b[0m\u001b[0m\n\u001b[0m\u001b[1;32m    189\u001b[0m \u001b[0;34m\u001b[0m\u001b[0m\n\u001b[1;32m    190\u001b[0m         \u001b[0;32mif\u001b[0m \u001b[0mcallable\u001b[0m\u001b[0;34m(\u001b[0m\u001b[0marg\u001b[0m\u001b[0;34m)\u001b[0m\u001b[0;34m:\u001b[0m\u001b[0;34m\u001b[0m\u001b[0;34m\u001b[0m\u001b[0m\n",
            "\u001b[0;32m/usr/local/lib/python3.7/dist-packages/IPython/core/magics/execution.py\u001b[0m in \u001b[0;36mtimeit\u001b[0;34m(self, line, cell)\u001b[0m\n\u001b[1;32m   1055\u001b[0m             \u001b[0mnumber\u001b[0m \u001b[0;34m=\u001b[0m \u001b[0;36m1\u001b[0m\u001b[0;34m\u001b[0m\u001b[0;34m\u001b[0m\u001b[0m\n\u001b[1;32m   1056\u001b[0m             \u001b[0;32mfor\u001b[0m \u001b[0m_\u001b[0m \u001b[0;32min\u001b[0m \u001b[0mrange\u001b[0m\u001b[0;34m(\u001b[0m\u001b[0;36m1\u001b[0m\u001b[0;34m,\u001b[0m \u001b[0;36m10\u001b[0m\u001b[0;34m)\u001b[0m\u001b[0;34m:\u001b[0m\u001b[0;34m\u001b[0m\u001b[0;34m\u001b[0m\u001b[0m\n\u001b[0;32m-> 1057\u001b[0;31m                 \u001b[0mtime_number\u001b[0m \u001b[0;34m=\u001b[0m \u001b[0mtimer\u001b[0m\u001b[0;34m.\u001b[0m\u001b[0mtimeit\u001b[0m\u001b[0;34m(\u001b[0m\u001b[0mnumber\u001b[0m\u001b[0;34m)\u001b[0m\u001b[0;34m\u001b[0m\u001b[0;34m\u001b[0m\u001b[0m\n\u001b[0m\u001b[1;32m   1058\u001b[0m                 \u001b[0mworst_tuning\u001b[0m \u001b[0;34m=\u001b[0m \u001b[0mmax\u001b[0m\u001b[0;34m(\u001b[0m\u001b[0mworst_tuning\u001b[0m\u001b[0;34m,\u001b[0m \u001b[0mtime_number\u001b[0m \u001b[0;34m/\u001b[0m \u001b[0mnumber\u001b[0m\u001b[0;34m)\u001b[0m\u001b[0;34m\u001b[0m\u001b[0;34m\u001b[0m\u001b[0m\n\u001b[1;32m   1059\u001b[0m                 \u001b[0;32mif\u001b[0m \u001b[0mtime_number\u001b[0m \u001b[0;34m>=\u001b[0m \u001b[0;36m0.2\u001b[0m\u001b[0;34m:\u001b[0m\u001b[0;34m\u001b[0m\u001b[0;34m\u001b[0m\u001b[0m\n",
            "\u001b[0;32m/usr/local/lib/python3.7/dist-packages/IPython/core/magics/execution.py\u001b[0m in \u001b[0;36mtimeit\u001b[0;34m(self, number)\u001b[0m\n\u001b[1;32m    137\u001b[0m         \u001b[0mgc\u001b[0m\u001b[0;34m.\u001b[0m\u001b[0mdisable\u001b[0m\u001b[0;34m(\u001b[0m\u001b[0;34m)\u001b[0m\u001b[0;34m\u001b[0m\u001b[0;34m\u001b[0m\u001b[0m\n\u001b[1;32m    138\u001b[0m         \u001b[0;32mtry\u001b[0m\u001b[0;34m:\u001b[0m\u001b[0;34m\u001b[0m\u001b[0;34m\u001b[0m\u001b[0m\n\u001b[0;32m--> 139\u001b[0;31m             \u001b[0mtiming\u001b[0m \u001b[0;34m=\u001b[0m \u001b[0mself\u001b[0m\u001b[0;34m.\u001b[0m\u001b[0minner\u001b[0m\u001b[0;34m(\u001b[0m\u001b[0mit\u001b[0m\u001b[0;34m,\u001b[0m \u001b[0mself\u001b[0m\u001b[0;34m.\u001b[0m\u001b[0mtimer\u001b[0m\u001b[0;34m)\u001b[0m\u001b[0;34m\u001b[0m\u001b[0;34m\u001b[0m\u001b[0m\n\u001b[0m\u001b[1;32m    140\u001b[0m         \u001b[0;32mfinally\u001b[0m\u001b[0;34m:\u001b[0m\u001b[0;34m\u001b[0m\u001b[0;34m\u001b[0m\u001b[0m\n\u001b[1;32m    141\u001b[0m             \u001b[0;32mif\u001b[0m \u001b[0mgcold\u001b[0m\u001b[0;34m:\u001b[0m\u001b[0;34m\u001b[0m\u001b[0;34m\u001b[0m\u001b[0m\n",
            "\u001b[0;32m<magic-timeit>\u001b[0m in \u001b[0;36minner\u001b[0;34m(_it, _timer)\u001b[0m\n",
            "\u001b[0;31mNameError\u001b[0m: name 'X' is not defined"
          ]
        }
      ]
    },
    {
      "cell_type": "code",
      "metadata": {
        "colab": {
          "base_uri": "https://localhost:8080/",
          "height": 926
        },
        "id": "JGsJFH8YpRUP",
        "outputId": "fa465252-a160-44b6-96da-2adc32893058"
      },
      "source": [
        "y1, t1 = infin(11200)\n",
        "x = secant(G, 1, 5, 0.0001)\n",
        "y2, t2 = euler(dzdt, 0, math.pi/4, x , 12000)\n",
        "plt.figure(figsize=(15,5))\n",
        "plt.plot(t1, y1, c = 'g', label = \"the finite difference method\")\n",
        "plt.legend()\n",
        "plt.show()\n",
        "plt.figure(figsize=(15,5))\n",
        "plt.plot(t2, y2, c = 'b', label = \"the shooting method\")\n",
        "plt.legend()\n",
        "plt.show()\n",
        "plt.figure(figsize=(15,5))\n",
        "plt.plot(t2, f(t2), c= 'r', label = \"analytical solution\")\n",
        "plt.legend()\n",
        "plt.show()\n",
        "\n"
      ],
      "execution_count": null,
      "outputs": [
        {
          "output_type": "display_data",
          "data": {
            "image/png": "[encoded data removed]",
            "text/plain": [
              "<Figure size 1080x360 with 1 Axes>"
            ]
          },
          "metadata": {
            "tags": [],
            "needs_background": "light"
          }
        },
        {
          "output_type": "display_data",
          "data": {
            "image/png": "[encoded data removed]",
            "text/plain": [
              "<Figure size 1080x360 with 1 Axes>"
            ]
          },
          "metadata": {
            "tags": [],
            "needs_background": "light"
          }
        },
        {
          "output_type": "display_data",
          "data": {
            "image/png": "[encoded data removed]",
            "text/plain": [
              "<Figure size 1080x360 with 1 Axes>"
            ]
          },
          "metadata": {
            "tags": [],
            "needs_background": "light"
          }
        }
      ]
    },
    {
      "cell_type": "markdown",
      "metadata": {
        "id": "0Wrb7vFvJ_WF"
      },
      "source": [
        "##Results\n",
        "Computional cost: \n",
        "\n",
        "The shooting method = 131 ms per loop\n",
        "\n",
        "The finite difference method = 303 ms per loop"
      ]
    },
    {
      "cell_type": "markdown",
      "metadata": {
        "id": "W0F7M_KKKCRv"
      },
      "source": [
        "##Conclusion\n",
        "\n",
        "According to the running time, the shooting method showed better result. The shooting method and the finite difference method have the same precision. From my point of view, the finite difference method should be faster, but maybe there is some problem with solving the matrix of linear Algebraic Equations."
      ]
    }
  ]
}