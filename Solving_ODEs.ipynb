{
  "nbformat": 4,
  "nbformat_minor": 0,
  "metadata": {
    "colab": {
      "name": "Solving ODEs.ipynb",
      "provenance": []
    },
    "kernelspec": {
      "name": "python3",
      "display_name": "Python 3"
    }
  },
  "cells": [
    {
      "cell_type": "markdown",
      "metadata": {
        "id": "0qIhPXro84mC"
      },
      "source": [
        "#Abstract\n",
        "This work was focused on solving a Stiff ODE. In this work it was shown that ordinary ways (which were examined in other assignments) of solving ODEs do not work when it comes to a Stiff ODE, since the inaccuracy in calculations increases drastically if the step size is not small enougth. According to this work, Implicit Euler's method works without significant degradation in accuracy even when it comes to solving Stiff ODE."
      ]
    },
    {
      "cell_type": "markdown",
      "metadata": {
        "id": "mojqtGUH_ZW8"
      },
      "source": [
        "#Introduction\n",
        "The main task of this work was to solve a Stiff ODE.\n",
        "The ODE which was to be solved looks as following:\n",
        "$$y'= f(t,y)= - 1000(y-\\sin t) + \\cos t ,$$\n",
        "The initial condition was $ y(0)=1$. Here $1000$ could be replaced with a constant $a$. After replacing it, got:\n",
        "$$y'= f(t,y)= - a(y-\\sin t) + \\cos t , \\quad y(0) = 1$$\n",
        "In order to find the solution I first solved the equation analytically, then I tried to obtain the solution using explicit Euler's method. Then, using RMS metric I compared the obtained solution with the analytical one. My hypothesis was that the answer would be far from the ideal. Then I used the implicit method for solving the given Stiff ODE."
      ]
    },
    {
      "cell_type": "code",
      "metadata": {
        "id": "BD7Lbave_MHe"
      },
      "source": [
        "import numpy as np\n",
        "def rms(analytical, experimental):\n",
        "  return np.sqrt(np.mean(np.power(analytical-experimental, 2)))\n",
        "\"\"\"\n",
        "CONSTANT\n",
        "\"\"\"\n",
        "a = 1000\n",
        "interval = np.linspace(0, 1, 1000)\n",
        "epsilon = 1e-3"
      ],
      "execution_count": null,
      "outputs": []
    },
    {
      "cell_type": "markdown",
      "metadata": {
        "id": "xy17fQdDCn1g"
      },
      "source": [
        "### Obtaining the analytical solution\n",
        "The given ODE can be solved using Integrating Factor. <br> \n",
        "The solution is: $y = e^{-at} + sin(t)$ <br>\n"
      ]
    },
    {
      "cell_type": "code",
      "metadata": {
        "id": "Sn-0PZ5PCkGO"
      },
      "source": [
        "def y_analytical(t):\n",
        "  return np.exp(-a * t) + np.sin(t)\n",
        "true_solution = y_analytical(interval)"
      ],
      "execution_count": null,
      "outputs": []
    },
    {
      "cell_type": "code",
      "metadata": {
        "id": "ohKd1tmFDGu-"
      },
      "source": [
        "\"\"\"\n",
        "From the initial condition we have\n",
        "\"\"\"\n",
        "y_initial = 1 "
      ],
      "execution_count": null,
      "outputs": []
    },
    {
      "cell_type": "markdown",
      "metadata": {
        "id": "t_Bl21AlDp7C"
      },
      "source": [
        "### Explicit method \n",
        "This method states that if we define $f(t, y(t)) = y'(t)$ such that the initial condition ($y'(t_initial) = y_initial$) is kept. We can find the next value of y by the following formula:\n",
        "$$y_{n+1} = y_n + h * f(t_n, y_n)$$\n",
        "Where h is stepsize. Here, since we are dealing with a Stiff ODE, h should be chose carefully. In order not to use the value which is too big, I will use 1e-3"
      ]
    },
    {
      "cell_type": "code",
      "metadata": {
        "id": "c4TW5BlQDpTS"
      },
      "source": [
        "h = 0.1"
      ],
      "execution_count": null,
      "outputs": []
    },
    {
      "cell_type": "code",
      "metadata": {
        "id": "LLMSvx3FH_-o"
      },
      "source": [
        "class ExplicitSolver():\n",
        "  def __init__(self, t_init, t_final, y_initial, step_size):\n",
        "    self.y = []\n",
        "    self.t_init = t_init\n",
        "    self.t_final = t_final\n",
        "    self.h = step_size\n",
        "    self.t = np.linspace(t_init, t_final, int( (t_final - t_init) / self.h))\n",
        "    self.y.append(y_initial)\n",
        "\n",
        "  def f(self, t, y):\n",
        "    return -a * (y - np.sin(t)) + np.cos(t)\n",
        "\n",
        "  def solve(self):\n",
        "    for i in range(1, self.t.shape[0]):\n",
        "      self.y.append(self.y[-1] + self.h * self.f(self.t[i-1], self.y[-1]))\n",
        "    return np.array(self.y)\n",
        "\n",
        "  def search(self):\n",
        "    pred = self.solve()\n",
        "    if rms(y_analytical(self.t), pred) >= epsilon:\n",
        "      self.h /= 2.0\n",
        "      self.t = np.linspace(self.t_init, self.t_final, int( (self.t_final - self.t_init) / self.h))\n",
        "      self.y = [self.y[0]]\n",
        "      return self.search()\n",
        "    else:\n",
        "      return self.y, self.h, rms(y_analytical(self.t), pred)\n"
      ],
      "execution_count": null,
      "outputs": []
    },
    {
      "cell_type": "code",
      "metadata": {
        "id": "gRrHefmDKual"
      },
      "source": [
        "t = np.linspace(0, 1, 1000)\n",
        "em = ExplicitSolver(0, 1, y_initial, h)"
      ],
      "execution_count": null,
      "outputs": []
    },
    {
      "cell_type": "code",
      "metadata": {
        "id": "uZPQ4JqNK5qw"
      },
      "source": [
        "em_solution, best_h, best_rms = em.search()\n"
      ],
      "execution_count": null,
      "outputs": []
    },
    {
      "cell_type": "code",
      "metadata": {
        "colab": {
          "base_uri": "https://localhost:8080/"
        },
        "id": "Q6kWJFS7zOXF",
        "outputId": "229073e5-e58b-4a54-ea17-6d379b83983f"
      },
      "source": [
        "best_h, best_rms"
      ],
      "execution_count": null,
      "outputs": [
        {
          "output_type": "execute_result",
          "data": {
            "text/plain": [
              "(9.765625e-05, 0.0007936540355475494)"
            ]
          },
          "metadata": {
            "tags": []
          },
          "execution_count": 154
        }
      ]
    },
    {
      "cell_type": "markdown",
      "metadata": {
        "id": "n4xRgFLGw9Bh"
      },
      "source": [
        "So the critical value of h is 9.765625e-05. It has RMS of 0.0007936540355475494 <br>\n",
        "However, it requires the function to be calculated more than 10K times."
      ]
    },
    {
      "cell_type": "markdown",
      "metadata": {
        "id": "_-n_SC5zzRvq"
      },
      "source": [
        "#Implicit method\n",
        "Before talking about this method it is needed to mention why the explicit method failed. The stepsize for the explicit method shoold be too small (9.765e-5) in order to satisfy stability condition. To solve this problem, we can change the derivation of the $y_{n+1}$ including in it the stability condition. Then $$x_{n+1} = \\frac{x_n}{1 + h*k}$$\n",
        "Substituting our function, we get: $$y_{n+1} = y_n + h * f(t, y) = y_n + h * (-a * (y_n - sin(t)) + cos(t)) = \\frac{y_n + h*(asin(t) + cos(t))}{1 + a*h}$$ "
      ]
    },
    {
      "cell_type": "code",
      "metadata": {
        "id": "8eAlimHsuUKp"
      },
      "source": [
        "class ImplicitSolver():\n",
        "  def __init__(self, t_init, t_final, y_initial, step_size):\n",
        "    self.y = []\n",
        "    self.t_init = t_init\n",
        "    self.t_final = t_final\n",
        "    self.h = step_size\n",
        "    self.t = np.linspace(t_init, t_final, int( (t_final - t_init) / self.h))\n",
        "    self.y.append(y_initial)\n",
        "\n",
        "  def f(self, t, y):\n",
        "    return -a * (-np.sin(t)) + np.cos(t)\n",
        "\n",
        "  def solve(self):\n",
        "    for i in range(1, self.t.shape[0]):\n",
        "      self.y.append(self.y[-1] + self.h * self.f(self.t[i-1] + self.h, self.y[-1]))\n",
        "      self.y[-1] = self.y[-1] / (1 + a*self.h)\n",
        "    return np.array(self.y)\n",
        "\n",
        "  def search(self):\n",
        "    pred = self.solve()\n",
        "    if rms(y_analytical(self.t), pred) >= epsilon:\n",
        "      self.h /= 2.0\n",
        "      self.t = np.linspace(self.t_init, self.t_final, int( (self.t_final - self.t_init) / self.h))\n",
        "      self.y = [self.y[0]]\n",
        "      return self.search()\n",
        "    else:\n",
        "      return self.y, self.h, rms(y_analytical(self.t), pred)"
      ],
      "execution_count": null,
      "outputs": []
    },
    {
      "cell_type": "code",
      "metadata": {
        "id": "xpuFGea793wf"
      },
      "source": [
        "im = ImplicitSolver(0, 1, 1, 0.5)"
      ],
      "execution_count": null,
      "outputs": []
    },
    {
      "cell_type": "code",
      "metadata": {
        "id": "vSIZeOU39_-V"
      },
      "source": [
        "im_values, bset_h, best_rms = im.search()"
      ],
      "execution_count": null,
      "outputs": []
    },
    {
      "cell_type": "code",
      "metadata": {
        "colab": {
          "base_uri": "https://localhost:8080/"
        },
        "id": "R2f8KVgk-CWa",
        "outputId": "f61dc03e-4327-47ca-f483-bc47b0e51467"
      },
      "source": [
        "bset_h"
      ],
      "execution_count": null,
      "outputs": [
        {
          "output_type": "execute_result",
          "data": {
            "text/plain": [
              "0.0001220703125"
            ]
          },
          "metadata": {
            "tags": []
          },
          "execution_count": 230
        }
      ]
    },
    {
      "cell_type": "markdown",
      "metadata": {
        "id": "YEri64W_BFz4"
      },
      "source": [
        "Now we have started with even a higher value of h, but still were able to find a stable solution. It required only 8K iterations."
      ]
    },
    {
      "cell_type": "markdown",
      "metadata": {
        "id": "teOZ-d6YDlly"
      },
      "source": [
        "#Conclusion\n",
        "From the above work it is clear that implicit Euler's method goves result of the same accuracy as the Explicit method, but it requires significantly less steps, since it can operate with a big step size (while the Explicit method requires the step size to be small enough no to be unstable). "
      ]
    },
    {
      "cell_type": "code",
      "metadata": {
        "id": "Cu5uOtlXFAc5"
      },
      "source": [
        ""
      ],
      "execution_count": null,
      "outputs": []
    }
  ]
}