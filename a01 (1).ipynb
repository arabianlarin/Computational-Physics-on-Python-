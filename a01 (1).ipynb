{
  "nbformat": 4,
  "nbformat_minor": 0,
  "metadata": {
    "colab": {
      "name": "a01.ipynb",
      "provenance": []
    },
    "kernelspec": {
      "name": "python3",
      "display_name": "Python 3"
    }
  },
  "cells": [
    {
      "cell_type": "markdown",
      "metadata": {
        "id": "6q3IhrsfZlje"
      },
      "source": [
        "# PHYS 270 Assignment 1: Lists and $\\tt Numpy$ arrays\n",
        "Student Name: Rakhat Zhussupkhanov"
      ]
    },
    {
      "cell_type": "markdown",
      "metadata": {
        "id": "e4CfO3kiZwkk"
      },
      "source": [
        "**Abstract**\n",
        "\n",
        "If one needs to work with multiple elements at a single time in Python, they most probably will use either lists or $\\tt Numpy$ arrays. In this assignment, it will be measured which of these data structures is more effective in terms of time taken to execute via performing the same operations with different approaches."
      ]
    },
    {
      "cell_type": "markdown",
      "metadata": {
        "id": "W-XBMIfxcBAa"
      },
      "source": [
        "**Introduction**\n",
        "\n",
        "Programming is a strong means of automating processes, especially when it comes to scientific calculations. It will take very long time to compute, for example, sums of thousands corresponding values, whereas it will be completed in less than a second with a couple lines of code. Data structures help much in it. In this assignment, I will calculate root-mean-square of corresponding 1000 randomly chosen element pairs from two datasets in two ways and compare the time they took to execute."
      ]
    },
    {
      "cell_type": "markdown",
      "metadata": {
        "id": "Zjt99VXjdFwB"
      },
      "source": [
        "**Method**\n",
        "\n",
        "There were plenty of ways to determine the time taken to execute a chunk of code. For example, there was $\\tt time$ library, $\\tt timeit$ Jupyter's inbuilt function, timeline magic, and many others. However, the most suitable one there was $\\tt timeit$ since it runs the chunk multiple times to find the average time.\n",
        "\n",
        "In the fist part of the assignment, I generated two lists and in a cycle generated 1000 random elements for each list with $\\tt random$ function from $\\tt random$ library, each of which then I appended to a list. After that, in a separate cycle I put each corresponding element pair of the lists to the RMS formula to generate the third list - $\\tt c$ and calculated the time it took using $\\tt timeit$ function.\n",
        "\n",
        "In the second part, different approach was used, namely, $\\tt NumPy$ arrays. This library has an inbuilt function to generate random elements called $\\tt random.rand$, which I used to do so. After that, I just wrote the formula of RMS without any cycle since $\\tt NumPy$ arrays are vectorized and there is no need in a cycle."
      ]
    },
    {
      "cell_type": "markdown",
      "metadata": {
        "id": "aDkQhHubjBGC"
      },
      "source": [
        "(**a**) Write a Python code that generates two lists $\\tt a$ and $\\tt b$ with $1000$ elements. Choose the\n",
        "values of the elements randomly using the function $\\tt random$ from library $\\tt random$."
      ]
    },
    {
      "cell_type": "code",
      "metadata": {
        "id": "IfpgPtggp2ai"
      },
      "source": [
        "#importing the necessary libraries\n",
        "import random\n",
        "import numpy as np"
      ],
      "execution_count": 2,
      "outputs": []
    },
    {
      "cell_type": "code",
      "metadata": {
        "id": "xXrJzQ8cp9aE"
      },
      "source": [
        "#initiating our range and assigning a value to it\n",
        "num = 1000"
      ],
      "execution_count": 3,
      "outputs": []
    },
    {
      "cell_type": "code",
      "metadata": {
        "id": "YEmwh4G_if0B"
      },
      "source": [
        "#declaring the lists and generating random elements for them\n",
        "a = []\n",
        "b = []\n",
        "c = []\n",
        "for i in range(num):\n",
        "  a.append(random.random())\n",
        "  b.append(random.random())"
      ],
      "execution_count": 4,
      "outputs": []
    },
    {
      "cell_type": "markdown",
      "metadata": {
        "id": "XGX3oEuFjCLS"
      },
      "source": [
        "(**b**) Generate another list $\\tt c$, each element of which is the root mean square of the corresponding elements of $\\tt a$ and $\\tt b$. In other words, calculate\n",
        "```\n",
        "c[i]=(a[i]**2+b[i]**2)**0.5\n",
        "```\n",
        "for every value of $\\tt i$. Calculate how much time it takes to execute this operation (i.e., calculation of $\\tt c$ from $\\tt a$ and $\\tt b$ - do not include the time it take to generated $\\tt a$ and $\\tt b$). "
      ]
    },
    {
      "cell_type": "code",
      "metadata": {
        "colab": {
          "base_uri": "https://localhost:8080/"
        },
        "id": "2m7e4eY9jrif",
        "outputId": "cd337686-f9c6-4612-954d-94e747511297"
      },
      "source": [
        "#initiating time calculation and performing the calculations\n",
        "%%timeit -n 50\n",
        "for i in range(num):\n",
        "  c.append((a[i]**2 + b[i]**2)**0.5)"
      ],
      "execution_count": 5,
      "outputs": [
        {
          "output_type": "stream",
          "text": [
            "50 loops, best of 5: 442 µs per loop\n"
          ],
          "name": "stdout"
        }
      ]
    },
    {
      "cell_type": "markdown",
      "metadata": {
        "id": "i1cC6e0PjOMf"
      },
      "source": [
        "(**d**) Repeat (**a**)-(**c**) using $\\tt numpy$ arrays instead of lists. Calculate the time it takes to execute\n",
        "```\n",
        "c[i]=(a[i]**2+b[i]**2)**0.5\n",
        "```\n",
        "for every value of $\\tt i$. Find whether it is faster to use lists or arrays."
      ]
    },
    {
      "cell_type": "code",
      "metadata": {
        "id": "_eTzIngLjSKH"
      },
      "source": [
        "#declaring arrays and generating random elements via NumPy random function\n",
        "d = np.random.rand(num)\n",
        "e = np.random.rand(num)"
      ],
      "execution_count": 6,
      "outputs": []
    },
    {
      "cell_type": "code",
      "metadata": {
        "colab": {
          "base_uri": "https://localhost:8080/"
        },
        "id": "WKsnzFU-jVIn",
        "outputId": "6dba5064-2a95-4371-8636-2806b786919b"
      },
      "source": [
        "#initiating time calculation and performing the calculations\n",
        "%%timeit -n 50\n",
        "f = (d**2 + e**2)**0.5"
      ],
      "execution_count": 7,
      "outputs": [
        {
          "output_type": "stream",
          "text": [
            "The slowest run took 13.12 times longer than the fastest. This could mean that an intermediate result is being cached.\n",
            "50 loops, best of 5: 8.03 µs per loop\n"
          ],
          "name": "stdout"
        }
      ]
    },
    {
      "cell_type": "markdown",
      "metadata": {
        "id": "Uoy2mBRUqU5m"
      },
      "source": [
        "**Conclusion**\n",
        "\n",
        "The results reveal that $\\tt NumPy$ arrays are much faster than list. To be exact, it is more than 30 times faster to use arrays."
      ]
    }
  ]
}