{
  "nbformat": 4,
  "nbformat_minor": 0,
  "metadata": {
    "colab": {
      "name": "a02.ipynb",
      "provenance": [],
      "collapsed_sections": []
    },
    "kernelspec": {
      "name": "python3",
      "display_name": "Python 3"
    }
  },
  "cells": [
    {
      "cell_type": "markdown",
      "metadata": {
        "id": "RNGogJWKef8B"
      },
      "source": [
        "# PHYS 270 Assignment 2: Numerical Errors\n",
        "Student Name: Rakhat Zhussupkhanov"
      ]
    },
    {
      "cell_type": "markdown",
      "metadata": {
        "id": "hDbkPrH1NUWf"
      },
      "source": [
        "**Abstract**\n",
        "\n",
        "In this assignment, it was determined how many terms of a series are needed to reach a relative error value of $10^{-6}$."
      ]
    },
    {
      "cell_type": "markdown",
      "metadata": {
        "id": "2uPYRpl3jKxD"
      },
      "source": [
        "**Introduction**\n",
        "\n",
        "Errors occur everywhere, especially in numerical computations. Because they are a mere approximation, it is essential, especially for computers, to have an error as small as possible. Since every calculation may have errors, they have to be examined closely. There are two types of numerical errors: truncation errors and round-off errors. Truncation error is the error that ignores infinitely many terms of a series and considers a finite amount. Rounded-off error is the difference between the exact and rounded-off approximate values."
      ]
    },
    {
      "cell_type": "markdown",
      "metadata": {
        "id": "juu1sLzcj78d"
      },
      "source": [
        "**Method**\n",
        "\n",
        "In the first part of the assignment, it was needed to determine $f(0)$. To do that, I used a loop which executes until the a term becomes $10^{-15}$, which is the minimum possible value in Python. In the loop, every term is added to the sum.\n",
        "\n",
        "In the second part, I used almost the same idea as in the first part not without the help of some libraries. `mpmath` library was used to determine the true value of a series, because it is a very convenient way of doing so with only two lines of code. `matplotlib` was used to plot graphs. The error was calculated in a loop which kept running until the error equaled $10^{-6}$. The formula is $$\\frac{true\\;value - approximate\\;value}{true\\;value}$$ An approximate value was calculated in the same way as in the first part. In the end, every 10000th value of the error and every term was appended to two separate lists to plot a graph of the relative error as a function of $k$ with the help of `matplotlib`.\n",
        "\n",
        "The third part required to prove that $f(1) = 1$. For that I approached the problem mathematically. As for proving that $f(x) - f(0)$ converges faster, I changed the function of the second part slightly."
      ]
    },
    {
      "cell_type": "markdown",
      "metadata": {
        "id": "9F0cEZKiepYB"
      },
      "source": [
        "###**PART 1**"
      ]
    },
    {
      "cell_type": "markdown",
      "metadata": {
        "id": "exezsslFo2bB"
      },
      "source": [
        "First, we import the necessary libraries."
      ]
    },
    {
      "cell_type": "code",
      "metadata": {
        "id": "4O0YD2FootDQ"
      },
      "source": [
        "from mpmath import *\n",
        "import matplotlib.pyplot as plt\n",
        "from math import pi"
      ],
      "execution_count": null,
      "outputs": []
    },
    {
      "cell_type": "markdown",
      "metadata": {
        "id": "RFERCCYDo609"
      },
      "source": [
        "To find the value of $f(0)$, I decided to write a code."
      ]
    },
    {
      "cell_type": "code",
      "metadata": {
        "colab": {
          "base_uri": "https://localhost:8080/"
        },
        "id": "Fj-FqH-woQ-9",
        "outputId": "12434ad3-b587-4323-bef7-43a69754041e"
      },
      "source": [
        "sum = 0 #initating variables\n",
        "term = 1\n",
        "i = 1\n",
        "while term > 1e-15: #loop for computing the sum of the series\n",
        "  term = 1.0/i**2\n",
        "  sum += term\n",
        "  i += 1\n",
        "print(sum)\n",
        "print(pi**2 / 6)"
      ],
      "execution_count": null,
      "outputs": [
        {
          "output_type": "stream",
          "text": [
            "1.644934035288937\n",
            "1.6449340668482264\n"
          ],
          "name": "stdout"
        }
      ]
    },
    {
      "cell_type": "markdown",
      "metadata": {
        "id": "oSjwOiTNoPa8"
      },
      "source": [
        "$f(0)$ gives us $$\\sum\\limits_{k=1}^{\\infty}\\frac{1}{k^2}$$, which is equal to $1.644934...$, or $\\frac{\\pi^2}{6}$, as proven by Leonard Euler in the 18th century."
      ]
    },
    {
      "cell_type": "markdown",
      "metadata": {
        "id": "IKORcURpf11n"
      },
      "source": [
        "###**PART 2**"
      ]
    },
    {
      "cell_type": "markdown",
      "metadata": {
        "id": "CYfapD3noHbw"
      },
      "source": [
        "Here, we need to find how many terms are necessary to reach the error of $10^{-6}$ for three values of $x$: $0$, $0.9$, and $20$. To not write the same code three times, we can just implement a function and put these values instead of the argument of that."
      ]
    },
    {
      "cell_type": "code",
      "metadata": {
        "id": "mmyfTYeFy6k6",
        "colab": {
          "base_uri": "https://localhost:8080/",
          "height": 867
        },
        "outputId": "47d36934-a264-44d8-a778-7a3f6957fc6d"
      },
      "source": [
        "def series(x): #this function calculates a true value, an approximate value,\n",
        "#and a relative error and plots a graph of the error as a function of k\n",
        "  err = [] #the lists for the graph's axes\n",
        "  terms = []\n",
        "  mp.dps = 30; mp.pretty = True #calculating the true value\n",
        "  true_value = nsum(lambda n: 1/(n**2+x*n), [1, inf])\n",
        "  i = 1 #initiating variables\n",
        "  sum = 0\n",
        "  error = 1\n",
        "  while error >= 1e-6: #the loop will execute until the error equals 10^-6\n",
        "    term = 1.0/(i * (i + x))\n",
        "    sum += term\n",
        "    error = (true_value - sum) / true_value\n",
        "    if i % 10000 == 0: #we take every 10000th value because there are a lot of them,\n",
        "    #which is why the graph could be ugly\n",
        "      err.append(error)\n",
        "      terms.append(i)\n",
        "    if error >= 1e-6:\n",
        "      i += 1\n",
        "    else: break \n",
        "  plt.plot(terms, err) #plotting the graph\n",
        "  plt.ylabel('Relative Error')\n",
        "  plt.xlabel('k')\n",
        "  plt.show()\n",
        "  return i, sum, error\n",
        "\n",
        "print(series(0))\n",
        "print(series(0.9))\n",
        "print(series(20))"
      ],
      "execution_count": null,
      "outputs": [
        {
          "output_type": "display_data",
          "data": {
            "image/png": "[encoded data removed]",
            "text/plain": [
              "<Figure size 432x288 with 1 Axes>"
            ]
          },
          "metadata": {
            "tags": [],
            "needs_background": "light"
          }
        },
        {
          "output_type": "stream",
          "text": [
            "(607927, 1.644932421915273, 0.000000999999323125603392729111357236)\n"
          ],
          "name": "stdout"
        },
        {
          "output_type": "display_data",
          "data": {
            "image/png": "[encoded data removed]",
            "text/plain": [
              "<Figure size 432x288 with 1 Axes>"
            ]
          },
          "metadata": {
            "tags": [],
            "needs_background": "light"
          }
        },
        {
          "output_type": "stream",
          "text": [
            "(964217, 1.0371098807407306, 0.000000999999045362747425478292137288)\n"
          ],
          "name": "stdout"
        },
        {
          "output_type": "display_data",
          "data": {
            "image/png": "[encoded data removed]",
            "text/plain": [
              "<Figure size 432x288 with 1 Axes>"
            ]
          },
          "metadata": {
            "tags": [],
            "needs_background": "light"
          }
        },
        {
          "output_type": "stream",
          "text": [
            "(5559036, 0.179886802970232, 0.000000999999829048191833036500071502)\n"
          ],
          "name": "stdout"
        }
      ]
    },
    {
      "cell_type": "markdown",
      "metadata": {
        "id": "8hjNbF7a0pKn"
      },
      "source": [
        "This is a truncation error because we consider an infinite series and find the relative error term by term, which corresponds to the definition of truncation errors given above."
      ]
    },
    {
      "cell_type": "markdown",
      "metadata": {
        "id": "QsBWTQM3w2zT"
      },
      "source": [
        "###**PART 3**"
      ]
    },
    {
      "cell_type": "markdown",
      "metadata": {
        "id": "_61TiE8HdMfM"
      },
      "source": [
        "$$\\sum\\limits_{k=1}^{\\infty}\\frac{1}{k} - \\frac{1}{k+1}$$ gives us $1 - \\frac{1}{2} + \\frac{1}{2} - \\frac{1}{3} + \\frac{1}{3} + ... + \\frac{1}{k} - \\frac{1}{k+1} $ where every term except $1$ cancels out, which gives the result of $1$."
      ]
    },
    {
      "cell_type": "markdown",
      "metadata": {
        "id": "CPU5Djoiqoh_"
      },
      "source": [
        "To show that less terms are needed for $f(x) - f(1)$ to converge, I used almost the same function as in the second part but with some changes. Namely, I subtracted $f(1)$ from $f(x)$ in the function."
      ]
    },
    {
      "cell_type": "code",
      "metadata": {
        "colab": {
          "base_uri": "https://localhost:8080/",
          "height": 855
        },
        "id": "yVryGglVXmpd",
        "outputId": "efe34c6d-d1a3-4925-cc9c-696085128f48"
      },
      "source": [
        "def series_2(x): #this function is almost the same as above but subtracts f(1) from f(x)\n",
        "  err = []\n",
        "  terms = []\n",
        "  mp.dps = 30; mp.pretty = True\n",
        "  true_value = nsum(lambda n: 1/(n**2+x*n) - 1/(n**2 + n), [1, inf])\n",
        "  i = 1\n",
        "  sum = 0\n",
        "  error = 1\n",
        "  while error >= 1e-6:\n",
        "    term = (1.0/(i * (i + x)) - 1.0/(i * (i + 1)))\n",
        "    sum += term\n",
        "    error = (true_value - sum) / true_value\n",
        "    err.append(error)\n",
        "    terms.append(i)\n",
        "    if error >= 1e-6:\n",
        "      i += 1\n",
        "    else: break\n",
        "  plt.plot(terms, err)\n",
        "  plt.ylabel('Relative Error')\n",
        "  plt.xlabel('k')\n",
        "  plt.show()\n",
        "  return i, sum, error\n",
        "\n",
        "print(series_2(0))\n",
        "print(series_2(0.9))\n",
        "print(series_2(20))"
      ],
      "execution_count": null,
      "outputs": [
        {
          "output_type": "display_data",
          "data": {
            "image/png": "[encoded data removed]",
            "text/plain": [
              "<Figure size 432x288 with 1 Axes>"
            ]
          },
          "metadata": {
            "tags": [],
            "needs_background": "light"
          }
        },
        {
          "output_type": "stream",
          "text": [
            "(880, 0.6449334224082466, 0.000000999233895340970519806439318926)\n"
          ],
          "name": "stdout"
        },
        {
          "output_type": "display_data",
          "data": {
            "image/png": "[encoded data removed]",
            "text/plain": [
              "<Figure size 432x288 with 1 Axes>"
            ]
          },
          "metadata": {
            "tags": [],
            "needs_background": "light"
          }
        },
        {
          "output_type": "stream",
          "text": [
            "(1160, 0.03711088076501751, 0.000000999318881201395848603176168948)\n"
          ],
          "name": "stdout"
        },
        {
          "output_type": "display_data",
          "data": {
            "image/png": "[encoded data removed]",
            "text/plain": [
              "<Figure size 432x288 with 1 Axes>"
            ]
          },
          "metadata": {
            "tags": [],
            "needs_background": "light"
          }
        },
        {
          "output_type": "stream",
          "text": [
            "(3397, -0.8201121975100795, 0.000000999414372538626497029919960902)\n"
          ],
          "name": "stdout"
        }
      ]
    },
    {
      "cell_type": "markdown",
      "metadata": {
        "id": "OMvtaRo1sO2T"
      },
      "source": [
        "**Conclusion**\n",
        "\n",
        "The experiment revealed that to gain a result as accurate as possible, we need to use as many terms as we can. In that case the error will be very small. For example, we need hundreds of thousands or even millions of terms for the first series. However, in the third part, we subtract a significant amount, which is why less terms are needed."
      ]
    }
  ]
}
