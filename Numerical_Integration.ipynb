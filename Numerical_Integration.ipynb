{
  "nbformat": 4,
  "nbformat_minor": 0,
  "metadata": {
    "colab": {
      "name": "Numerical Integration.ipynb",
      "provenance": []
    },
    "kernelspec": {
      "name": "python3",
      "display_name": "Python 3"
    }
  },
  "cells": [
    {
      "cell_type": "markdown",
      "metadata": {
        "id": "q6g2ls79y0Ab"
      },
      "source": [
        "## PHY270 Assignment 9: Numerical integration\n",
        "\n",
        "Student Name: Rakhat Zhussupkhanov"
      ]
    },
    {
      "cell_type": "markdown",
      "metadata": {
        "id": "C_jN58iDy7Z0"
      },
      "source": [
        "#**ABSTRACT**\n",
        "\n",
        "Numerical integration is a set of solving a definite integral, which was investigated in this assignment. Namely, we considered three integration methods:\n",
        "\n",
        "\n",
        "\n",
        "*   Trapezoidal Rule\n",
        "*   Romberg Integration\n",
        "*   Gauss Quadrature\n",
        "The purpose was to find out which method was the best. As a result, Gauss Quadrature turned out to be the most accurate."
      ]
    },
    {
      "cell_type": "markdown",
      "metadata": {
        "id": "8GHYLBRV0jJr"
      },
      "source": [
        "#**INTRODUCTION**\n",
        "\n",
        "Numerical integration is often used when a function is known only at some points or cannot be written analytically. There are also some cases when integrating numerically is easier than doing so analytically. In this assignment, the following velocity function was used:\n",
        "$$\\\\v(t)=\\frac{gm}{c}(1-e^{−(c/m)t})$$\n",
        "where $g = 9.8$ m/s$^2$. For a parachutist with a drag coefficient $c = 12$ kg/s and mass $m = 60$ kg with an interval of time, $t$, from 3 s. to 9 s. At the beginning, trapezoidal rule was expected to be the least accurate since it connects two points, while Gauss Quadrature was presumably the most accurate."
      ]
    },
    {
      "cell_type": "markdown",
      "metadata": {
        "id": "w-S9q-my15bC"
      },
      "source": [
        "#**METHODS**\n"
      ]
    },
    {
      "cell_type": "markdown",
      "metadata": {
        "id": "piT-lZiu2WgJ"
      },
      "source": [
        "The analytical solution is $200.0393767712522$. We will compare the results with this number."
      ]
    },
    {
      "cell_type": "code",
      "metadata": {
        "id": "agnVjrM84MEw"
      },
      "source": [
        "analytical = 200.0393767712522"
      ],
      "execution_count": null,
      "outputs": []
    },
    {
      "cell_type": "markdown",
      "metadata": {
        "id": "SZd94s-_2VMa"
      },
      "source": [
        "To implement the methods, we needed the following libraries:"
      ]
    },
    {
      "cell_type": "code",
      "metadata": {
        "id": "rKJKCvfcDAM1"
      },
      "source": [
        "import numpy as np\n",
        "import scipy as sp\n",
        "from scipy.special import roots_legendre as rl\n",
        "from scipy.integrate import quad"
      ],
      "execution_count": null,
      "outputs": []
    },
    {
      "cell_type": "markdown",
      "metadata": {
        "id": "di9tUV4C2EUB"
      },
      "source": [
        "This was our velocity function:"
      ]
    },
    {
      "cell_type": "code",
      "metadata": {
        "id": "FMjmVp48FDUb"
      },
      "source": [
        "def v(t):\n",
        "  return 9.8 * 60 / 12 * (1 - np.exp(-12 / 60 * t))"
      ],
      "execution_count": null,
      "outputs": []
    },
    {
      "cell_type": "markdown",
      "metadata": {
        "id": "nXB8OTTm2I_j"
      },
      "source": [
        "Trapezoidal Rule function:"
      ]
    },
    {
      "cell_type": "code",
      "metadata": {
        "id": "vphJ0YcxIu-e"
      },
      "source": [
        "def trapezoidal(v, t, n):\n",
        "  n -= 1\n",
        "  return (t[n] - t[0]) / (2 * n) * (v(t[0]) + 2 * np.sum(v(t[1:n])) + v(t[n]))"
      ],
      "execution_count": null,
      "outputs": []
    },
    {
      "cell_type": "markdown",
      "metadata": {
        "id": "IxeiUmqs2LzR"
      },
      "source": [
        "1000 steps on the interval were taken to make the approximation as accurate as possible."
      ]
    },
    {
      "cell_type": "code",
      "metadata": {
        "colab": {
          "base_uri": "https://localhost:8080/"
        },
        "id": "wt2zKJHBJtZ3",
        "outputId": "eb126254-72fe-4e37-d166-d1950bf76903"
      },
      "source": [
        "n = 1000\n",
        "t = np.linspace(3, 9, n)\n",
        "trapezoidal(v, t, n)"
      ],
      "execution_count": null,
      "outputs": [
        {
          "output_type": "execute_result",
          "data": {
            "text/plain": [
              "200.03936547339333"
            ]
          },
          "metadata": {
            "tags": []
          },
          "execution_count": 4
        }
      ]
    },
    {
      "cell_type": "markdown",
      "metadata": {
        "id": "ecMIRglo2mFR"
      },
      "source": [
        "Implementing the Romberg Integration function, which is based on Trapezoidal Rule:"
      ]
    },
    {
      "cell_type": "code",
      "metadata": {
        "id": "V3Sl3m_ypsRX"
      },
      "source": [
        "def romberg(v, t, n):\n",
        "    I = np.zeros((n, n))\n",
        "    for k in range(0, n):\n",
        "        I[k, 0] = trapezoidal(v, t, n)\n",
        "        for j in range(0, k):\n",
        "            I[k, j+1] = (4**(j+1) * I[k, j] - I[k-1, j]) / (4**(j+1) - 1)\n",
        "            return I[k, j + 1]\n",
        "\n",
        "    return I"
      ],
      "execution_count": null,
      "outputs": []
    },
    {
      "cell_type": "code",
      "metadata": {
        "colab": {
          "base_uri": "https://localhost:8080/"
        },
        "id": "1qqFm9teavYP",
        "outputId": "73057c67-446f-44f3-d831-3a9ce1fef7ef"
      },
      "source": [
        "romberg(v, t, n)"
      ],
      "execution_count": null,
      "outputs": [
        {
          "output_type": "execute_result",
          "data": {
            "text/plain": [
              "200.03936547339333"
            ]
          },
          "metadata": {
            "tags": []
          },
          "execution_count": 61
        }
      ]
    },
    {
      "cell_type": "markdown",
      "metadata": {
        "id": "P7VeG32j2x_K"
      },
      "source": [
        "Finally, we implemented the Gauss Quadrature function. To generate weights and gauss nodes, `roots_legendre` function from `SciPy` library was used:"
      ]
    },
    {
      "cell_type": "code",
      "metadata": {
        "id": "b13_fDm6wxq9"
      },
      "source": [
        "def gauss(v, t, n):\n",
        "  x = rl(n)[0]\n",
        "  w = rl(n)[1]\n",
        "  x = (t[0] + t[n - 1]) / 2 + (t[n - 1] - t[0]) * x / 2\n",
        "  return (t[n - 1] - t[0]) * sum(w * v(x)) / 2"
      ],
      "execution_count": null,
      "outputs": []
    },
    {
      "cell_type": "code",
      "metadata": {
        "colab": {
          "base_uri": "https://localhost:8080/"
        },
        "id": "Xr9klarZxJzE",
        "outputId": "c1fb7d58-f02f-4afc-d3e4-e4fa3b69f1d4"
      },
      "source": [
        "gauss(v, t, n)"
      ],
      "execution_count": null,
      "outputs": [
        {
          "output_type": "execute_result",
          "data": {
            "text/plain": [
              "200.03937677125475"
            ]
          },
          "metadata": {
            "tags": []
          },
          "execution_count": 56
        }
      ]
    },
    {
      "cell_type": "markdown",
      "metadata": {
        "id": "DlrZ2FOI3Tkj"
      },
      "source": [
        "Let's now compare the accuracy."
      ]
    },
    {
      "cell_type": "code",
      "metadata": {
        "colab": {
          "base_uri": "https://localhost:8080/"
        },
        "id": "Avty1LvM3XQp",
        "outputId": "a6838ee3-84fd-45bb-ad83-6877383f49d8"
      },
      "source": [
        "#Error in Trapezoidal Rule:\n",
        "abs(analytical - trapezoidal(v, t, n))"
      ],
      "execution_count": null,
      "outputs": [
        {
          "output_type": "execute_result",
          "data": {
            "text/plain": [
              "1.1297858861780696e-05"
            ]
          },
          "metadata": {
            "tags": []
          },
          "execution_count": 70
        }
      ]
    },
    {
      "cell_type": "code",
      "metadata": {
        "colab": {
          "base_uri": "https://localhost:8080/"
        },
        "id": "US51djex4Tgi",
        "outputId": "c1688e94-259e-4d9f-b79d-5fccf5af94c0"
      },
      "source": [
        "#Error in Romberg Integration:\n",
        "abs(analytical - romberg(v, t, n))"
      ],
      "execution_count": null,
      "outputs": [
        {
          "output_type": "execute_result",
          "data": {
            "text/plain": [
              "1.1297858861780696e-05"
            ]
          },
          "metadata": {
            "tags": []
          },
          "execution_count": 71
        }
      ]
    },
    {
      "cell_type": "code",
      "metadata": {
        "colab": {
          "base_uri": "https://localhost:8080/"
        },
        "id": "mlaAhOCq4aAX",
        "outputId": "1caf51f8-16d2-43c6-9b5c-e3e605727903"
      },
      "source": [
        "#Error in Gauss Quadrature:\n",
        "abs(analytical - gauss(v, t, n))"
      ],
      "execution_count": null,
      "outputs": [
        {
          "output_type": "execute_result",
          "data": {
            "text/plain": [
              "2.5579538487363607e-12"
            ]
          },
          "metadata": {
            "tags": []
          },
          "execution_count": 72
        }
      ]
    },
    {
      "cell_type": "markdown",
      "metadata": {
        "id": "kYLud5fl4mo4"
      },
      "source": [
        "#**CONCLUSION**\n",
        "\n",
        "The results revealed that Gauss Quadrature method has the least error. Hence, it is the most accurate method, as expected. This could be due to that it uses the nodes and weights, while the other methods are much simpler and give a greater error."
      ]
    }
  ]
}