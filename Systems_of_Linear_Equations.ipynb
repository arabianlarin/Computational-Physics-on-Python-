{
  "nbformat": 4,
  "nbformat_minor": 0,
  "metadata": {
    "colab": {
      "name": "Systems of Linear Equations.ipynb",
      "provenance": []
    },
    "kernelspec": {
      "name": "python3",
      "display_name": "Python 3"
    }
  },
  "cells": [
    {
      "cell_type": "markdown",
      "metadata": {
        "id": "zi6IVCa67BDg"
      },
      "source": [
        "#PHYS 270 Assignment 4: Systems of Linear Equations\n",
        "\n",
        "Student Name: Rakhat Zhussupkhanov"
      ]
    },
    {
      "cell_type": "markdown",
      "metadata": {
        "id": "N9AAac0n8P6Q"
      },
      "source": [
        "**ABSTRACT**\n",
        "\n",
        "In this assignment, we implemented two algorithms for solving a linear system of equations - Thomas algorithm and Gauss-Seidel Method and compare the time they took to execute."
      ]
    },
    {
      "cell_type": "markdown",
      "metadata": {
        "id": "Go9t7_qJB0dn"
      },
      "source": [
        "**INTRODUCTION**\n",
        "\n",
        "In the modern world, a lot of models contain several variables and several equations (for example, electronic circuits or economic models), forming systems of linear equations. They can be solved manually, but it may take a very long time if there are too many equations. This is why scientists use computational methods to solve them. There are several methods of solving systems of linear equations. Among them are Thomas Algorithm and Gauss-Seidel method. This assignment will implement these methods as a Python program and examine by what factor one method is faster than the other."
      ]
    },
    {
      "cell_type": "markdown",
      "metadata": {
        "id": "mka1VNqkDB2t"
      },
      "source": [
        "**METHODS**\n",
        "\n",
        "As we worked with matrices, we used `NumPy` because it has functions to find diagonals of a matrix, fill it with zeros and some other operations.\n",
        "\n",
        "The first method we looked at was **Thomas Algorithm**, also known as Tridiagonal Matrix Algorithm (TMA). To implement a code for this method, we needed diagonals of the matrix we were given, namely,\n",
        "$$\\small \\begin{bmatrix}\n",
        "2.01475 & -0.020875 & 0 & 0\\\\\n",
        "-0.020875 & 2.01475 & -0.020875 & 0\\\\\n",
        "0 & -0.020875 & 2.01475 & -0.020875 \\\\\n",
        "0 & 0 & -0.020875 & 2.01475\n",
        "\\end{bmatrix} \n",
        "\\begin{Bmatrix}\n",
        "x_1 \\\\\n",
        "x_2 \\\\\n",
        "x_3 \\\\\n",
        "x_4 \n",
        "\\end{Bmatrix}=\n",
        "\\begin{Bmatrix}\n",
        "4.175 \\\\\n",
        "0 \\\\\n",
        "0 \\\\\n",
        "2.0875 \n",
        "\\end{Bmatrix}$$\n",
        "The lower diagonal is $[-0.020875, -0.020875, -0.020875]$, the main one is $[2.01475, 2.01475, 2.01475, 2.01475]$ and the upper one is $[-0.020875, -0.020875, -0.020875]$. To find these, we used the `diagonal()` function of `NumPy` library.\n",
        "\n",
        "For the **Gauss-Seidel Method** asked in the second part, we needed to split the matrix into two parts - the left-hand side and the right-hand side and do the appropriate operations to the diagonals of the matrix.\n",
        "\n",
        "In the third part, we were asked to compare the time the methods took to execute and provide an estimate by how much one is faster than the other. For that we used `%timeit` function built in Jupyter. It seems to be one of the best methods because it executes the code a certain number of times and gives the average execute time."
      ]
    },
    {
      "cell_type": "markdown",
      "metadata": {
        "id": "pybckZEQxWR7"
      },
      "source": [
        "**IMPLEMENTATION**"
      ]
    },
    {
      "cell_type": "markdown",
      "metadata": {
        "id": "NZ7KyJtAyZFl"
      },
      "source": [
        "First, we imported the necessary libraries."
      ]
    },
    {
      "cell_type": "code",
      "metadata": {
        "id": "NGI9fJbu10b8"
      },
      "source": [
        "import numpy as np"
      ],
      "execution_count": null,
      "outputs": []
    },
    {
      "cell_type": "markdown",
      "metadata": {
        "id": "eAELXOlaxc3a"
      },
      "source": [
        "**Thomas Algorithm**"
      ]
    },
    {
      "cell_type": "markdown",
      "metadata": {
        "id": "ZKbgLat9ydNp"
      },
      "source": [
        "Now, we declared our array and found the diagonals since Thomas Algorithm works with them."
      ]
    },
    {
      "cell_type": "code",
      "metadata": {
        "id": "6OvTxyujS8Fu"
      },
      "source": [
        "matrix = np.array([[2.01475 , -0.020875 , 0 , 0, 4.175],\n",
        "                [-0.020875 , 2.01475 , -0.020875 , 0, 0],\n",
        "                [0 , -0.020875 , 2.01475 , -0.020875, 0],\n",
        "                [0 , 0 , -0.020875 , 2.01475, 2.0875]])\n",
        "a = matrix[:, :-1].diagonal(-1) # lower diagonal\n",
        "b = matrix[:, :-1].diagonal() # main diagonal\n",
        "c = matrix[:, :-1].diagonal(1) # upper diagonal\n",
        "d = matrix[:, -1]"
      ],
      "execution_count": null,
      "outputs": []
    },
    {
      "cell_type": "markdown",
      "metadata": {
        "id": "oqZuQAkiy0kR"
      },
      "source": [
        "We implemented the function for the algorithm that reads the diagonals and returns the solution."
      ]
    },
    {
      "cell_type": "code",
      "metadata": {
        "id": "JcuuPR-LrjY8"
      },
      "source": [
        "def thomas(a, b, c, d):\n",
        "  ac, bc, cc, dc = map(np.array, (a, b, c, d)) #assigning the diagonal variable to different ones since we cannot change them\n",
        "  for i in range(1, len(d)):\n",
        "    mc = cc[i - 1] / bc[i - 1]\n",
        "    kc = dc[i - 1] / bc[i - 1]\n",
        "    bc[i] -= mc * cc[i - 1]\n",
        "    dc[i] -= kc * a[i - 1]\n",
        "  \n",
        "  xc = dc\n",
        "  xc[-1] = dc[-1]/bc[-1]\n",
        "  for i in range(len(d) - 2, -1, -1):\n",
        "    xc[i] = (dc[i] - cc[i] * xc[i + 1]) / bc[i]\n",
        "  return xc"
      ],
      "execution_count": null,
      "outputs": []
    },
    {
      "cell_type": "markdown",
      "metadata": {
        "id": "AK6bztpXzAC6"
      },
      "source": [
        "At this stage, all we had to do was to execute the function and calculate the time it takes."
      ]
    },
    {
      "cell_type": "code",
      "metadata": {
        "colab": {
          "base_uri": "https://localhost:8080/"
        },
        "id": "4ZOI-4iLv4Lq",
        "outputId": "185f4813-42cd-4c5d-c30d-785bed369f0d"
      },
      "source": [
        "%timeit -n 50 thomas(a, b, c, d)"
      ],
      "execution_count": null,
      "outputs": [
        {
          "output_type": "stream",
          "text": [
            "The slowest run took 6.13 times longer than the fastest. This could mean that an intermediate result is being cached.\n",
            "50 loops, best of 3: 12.1 µs per loop\n"
          ],
          "name": "stdout"
        }
      ]
    },
    {
      "cell_type": "markdown",
      "metadata": {
        "id": "OdUd5hapzGxy"
      },
      "source": [
        "**Gauss-Seidel Method**"
      ]
    },
    {
      "cell_type": "code",
      "metadata": {
        "id": "rWEG6AzfzK_P"
      },
      "source": [
        "A = matrix[:, :-1]\n",
        "B = matrix[:, -1]"
      ],
      "execution_count": null,
      "outputs": []
    },
    {
      "cell_type": "code",
      "metadata": {
        "id": "p_p-7w0nVzDn"
      },
      "source": [
        "def gauss_seidel(A, b):\n",
        "  n = len(b) # the loop will go as much as the length of the matrix\n",
        "  x = np.zeros(n) # declaring a variable to assign the solution to\n",
        "  sum = 0\n",
        "  for t in range(n):\n",
        "    for i in range(n):\n",
        "      sum = 0\n",
        "      if i == 0:\n",
        "        for j in range(1, n):\n",
        "          sum += A[0][j] * x[j]\n",
        "      elif i != 0 and i != n - 1:\n",
        "        for j in range(0, i):\n",
        "          sum += A[i][j] * x[j]\n",
        "        for j in range(i + 1, n):\n",
        "          sum += A[i][j] * x[j]\n",
        "      elif i == n - 1:\n",
        "        for j in range(0, n - 1):\n",
        "          sum += A[n - 1][j] * x[j]\n",
        "      x[i] = (b[i] - sum)/A[i][i]\n",
        "  return x"
      ],
      "execution_count": null,
      "outputs": []
    },
    {
      "cell_type": "code",
      "metadata": {
        "colab": {
          "base_uri": "https://localhost:8080/"
        },
        "id": "gyZXAzmnXmbm",
        "outputId": "8d40e1c2-9a25-4643-92e5-355e7ae94340"
      },
      "source": [
        "%timeit -n 50 gauss_seidel(A, B)"
      ],
      "execution_count": null,
      "outputs": [
        {
          "output_type": "stream",
          "text": [
            "50 loops, best of 3: 60.4 µs per loop\n"
          ],
          "name": "stdout"
        }
      ]
    },
    {
      "cell_type": "markdown",
      "metadata": {
        "id": "na9WYiSGkIDz"
      },
      "source": [
        "**Conclusion**\n",
        "\n",
        "As the experiment revealed, Thomas Algorithm turned out to be around **5** times faster than Gauss-Seidel method (Thomas Algorithm ~ 12 $\\mu$s, Gauss-Seidel Method ~ 60$\\mu$s). There could be different reasons for that. For example, the second method uses much more loops and conditions, and it could take more time to executeю"
      ]
    }
  ]
}